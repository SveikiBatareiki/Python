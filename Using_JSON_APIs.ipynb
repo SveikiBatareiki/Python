{
 "cells": [
  {
   "cell_type": "markdown",
   "metadata": {},
   "source": [
    "## JSON"
   ]
  },
  {
   "cell_type": "markdown",
   "metadata": {},
   "source": [
    "# JSON - Javascript Object Notation\n",
    "#### Invented by Douglas Crockford when working at Yahoo in early 2000s.\n",
    "\n",
    "* Goal - Human Readable, Machine Parsable\n",
    "\n",
    "* Specification: https://www.json.org/"
   ]
  },
  {
   "cell_type": "markdown",
   "metadata": {},
   "source": [
    "JSON — short for JavaScript Object Notation — format for sharing data. \n",
    "\n",
    "JSON is derived from the JavaScript programming language\n",
    "\n",
    "Available for use by many languages including Python \n",
    "\n",
    "usually file extension is .json when stored\n",
    "\n"
   ]
  },
  {
   "cell_type": "code",
   "execution_count": null,
   "metadata": {},
   "outputs": [],
   "source": [
    "# Sample JSON below from https://json.org/example.html\n",
    "# Question why is Syntax highlighting working properly ? :)"
   ]
  },
  {
   "cell_type": "code",
   "execution_count": 1,
   "metadata": {},
   "outputs": [
    {
     "data": {
      "text/plain": [
       "{'widget': {'debug': 'on',\n",
       "  'window': {'title': 'Sample Konfabulator Widget',\n",
       "   'name': 'main_window',\n",
       "   'width': 500,\n",
       "   'height': 500},\n",
       "  'image': {'src': 'Images/Sun.png',\n",
       "   'name': 'sun1',\n",
       "   'hOffset': 250,\n",
       "   'vOffset': 250,\n",
       "   'alignment': 'center'},\n",
       "  'text': {'data': 'Click Here',\n",
       "   'size': 36,\n",
       "   'style': 'bold',\n",
       "   'name': 'text1',\n",
       "   'hOffset': 250,\n",
       "   'vOffset': 100,\n",
       "   'alignment': 'center',\n",
       "   'onMouseUp': 'sun1.opacity = (sun1.opacity / 100) * 90;'}}}"
      ]
     },
     "execution_count": 1,
     "metadata": {},
     "output_type": "execute_result"
    }
   ],
   "source": [
    "{\"widget\": {\n",
    "    \"debug\": \"on\",\n",
    "    \"window\": {\n",
    "        \"title\": \"Sample Konfabulator Widget\",\n",
    "        \"name\": \"main_window\",\n",
    "        \"width\": 500,\n",
    "        \"height\": 500\n",
    "    },\n",
    "    \"image\": { \n",
    "        \"src\": \"Images/Sun.png\",\n",
    "        \"name\": \"sun1\",\n",
    "        \"hOffset\": 250,\n",
    "        \"vOffset\": 250,\n",
    "        \"alignment\": \"center\"\n",
    "    },\n",
    "    \"text\": {\n",
    "        \"data\": \"Click Here\",\n",
    "        \"size\": 36,\n",
    "        \"style\": \"bold\",\n",
    "        \"name\": \"text1\",\n",
    "        \"hOffset\": 250,\n",
    "        \"vOffset\": 100,\n",
    "        \"alignment\": \"center\",\n",
    "        \"onMouseUp\": \"sun1.opacity = (sun1.opacity / 100) * 90;\"\n",
    "    }\n",
    "}}    \n"
   ]
  },
  {
   "cell_type": "code",
   "execution_count": 2,
   "metadata": {},
   "outputs": [],
   "source": [
    "# if this was string starting with { it would be our json\n",
    "mydata = {\n",
    "    \"firstName\": \"Jane\",\n",
    "    \"lastName\": \"Doe\",\n",
    "    \"hobbies\": [\"running\", \"sky diving\", \"dancing\"],\n",
    "    \"age\": 43,\n",
    "    \"children\": [\n",
    "        {\n",
    "            \"firstName\": \"Alice\",\n",
    "            \"age\": 7\n",
    "        },\n",
    "        {\n",
    "            \"firstName\": \"Bob\",\n",
    "            \"age\": 13\n",
    "        }\n",
    "    ]\n",
    "}"
   ]
  },
  {
   "cell_type": "code",
   "execution_count": 3,
   "metadata": {},
   "outputs": [
    {
     "data": {
      "text/plain": [
       "dict"
      ]
     },
     "execution_count": 3,
     "metadata": {},
     "output_type": "execute_result"
    }
   ],
   "source": [
    "type(mydata)"
   ]
  },
  {
   "cell_type": "code",
   "execution_count": 4,
   "metadata": {},
   "outputs": [
    {
     "name": "stdout",
     "output_type": "stream",
     "text": [
      "{'firstName': 'Jane', 'lastName': 'Doe', 'hobbies': ['running', 'sky diving', 'dancing'], 'age': 43, 'children': [{'firstName': 'Alice', 'age': 7}, {'firstName': 'Bob', 'age': 13}]}\n"
     ]
    }
   ],
   "source": [
    "print(mydata)"
   ]
  },
  {
   "cell_type": "code",
   "execution_count": 5,
   "metadata": {},
   "outputs": [
    {
     "data": {
      "text/plain": [
       "13"
      ]
     },
     "execution_count": 5,
     "metadata": {},
     "output_type": "execute_result"
    }
   ],
   "source": [
    "mydata['children'][1]['age']"
   ]
  },
  {
   "cell_type": "code",
   "execution_count": 5,
   "metadata": {},
   "outputs": [
    {
     "data": {
      "text/plain": [
       "13"
      ]
     },
     "execution_count": 5,
     "metadata": {},
     "output_type": "execute_result"
    }
   ],
   "source": [
    "mydata['children'][-1]['age']"
   ]
  },
  {
   "cell_type": "code",
   "execution_count": 7,
   "metadata": {},
   "outputs": [
    {
     "data": {
      "text/plain": [
       "['running', 'sky diving', 'dancing']"
      ]
     },
     "execution_count": 7,
     "metadata": {},
     "output_type": "execute_result"
    }
   ],
   "source": [
    "mydata.get('hobbies')"
   ]
  },
  {
   "cell_type": "code",
   "execution_count": 9,
   "metadata": {},
   "outputs": [
    {
     "data": {
      "text/plain": [
       "('dancing', 'dancing')"
      ]
     },
     "execution_count": 9,
     "metadata": {},
     "output_type": "execute_result"
    }
   ],
   "source": [
    "mydata.get('hobbies')[-1],mydata['hobbies'][-1]"
   ]
  },
  {
   "cell_type": "code",
   "execution_count": null,
   "metadata": {},
   "outputs": [],
   "source": []
  },
  {
   "cell_type": "code",
   "execution_count": 8,
   "metadata": {},
   "outputs": [
    {
     "name": "stdout",
     "output_type": "stream",
     "text": [
      "[0, 1, 2, 3, 4, 5, 6, 7, 8, 9]\n"
     ]
    }
   ],
   "source": [
    "mylist = list(range(10))\n",
    "print(mylist)"
   ]
  },
  {
   "cell_type": "markdown",
   "metadata": {},
   "source": [
    "The process of encoding JSON is usually called serialization. This term refers to the transformation of data into a series of bytes (hence serial) to be stored or transmitted across a network. You may also hear the term marshaling, but that’s a whole other discussion. Naturally, deserialization is the reciprocal process of decoding data that has been stored or delivered in the JSON standard.\n",
    "\n",
    "All we’re talking about here is reading and writing. Think of it like this: encoding is for writing data to disk, while decoding is for reading data into memory.\n",
    " https://realpython.com/python-json/"
   ]
  },
  {
   "cell_type": "code",
   "execution_count": 10,
   "metadata": {},
   "outputs": [
    {
     "data": {
      "text/plain": [
       "{'firstName': 'Jane',\n",
       " 'lastName': 'Doe',\n",
       " 'hobbies': ['running', 'sky diving', 'dancing'],\n",
       " 'age': 43,\n",
       " 'children': [{'firstName': 'Alice', 'age': 7},\n",
       "  {'firstName': 'Bob', 'age': 13}]}"
      ]
     },
     "execution_count": 10,
     "metadata": {},
     "output_type": "execute_result"
    }
   ],
   "source": [
    "mydata # simply a PYthon dictionary with some lists inside etc"
   ]
  },
  {
   "cell_type": "code",
   "execution_count": 11,
   "metadata": {},
   "outputs": [],
   "source": [
    "# we need a library for decoding and encoding json\n",
    "import json"
   ]
  },
  {
   "cell_type": "code",
   "execution_count": 12,
   "metadata": {},
   "outputs": [],
   "source": [
    "# first we are going to dump our data into a text file\n",
    "with open(\"data_file.json\", mode=\"w\") as write_file:\n",
    "    json.dump(mydata, write_file)\n",
    "# remember that stream is closed here and file is written by now"
   ]
  },
  {
   "cell_type": "code",
   "execution_count": 13,
   "metadata": {},
   "outputs": [],
   "source": [
    "# this will be nicer\n",
    "with open(\"data_file_indented.json\", mode=\"w\") as write_file:\n",
    "    json.dump(mydata, write_file, indent=4)"
   ]
  },
  {
   "cell_type": "code",
   "execution_count": 14,
   "metadata": {},
   "outputs": [
    {
     "data": {
      "text/plain": [
       "'{\\n    \"firstName\": \"Jane\",\\n    \"lastName\": \"Doe\",\\n    \"hobbies\": [\\n        \"running\",\\n        \"sky diving\",\\n        \"dancing\"\\n    ],\\n    \"age\": 43,\\n  '"
      ]
     },
     "execution_count": 14,
     "metadata": {},
     "output_type": "execute_result"
    }
   ],
   "source": [
    "with open(\"data_file_indented.json\") as f:\n",
    "    raw_txt = f.read()\n",
    "raw_txt[:150]"
   ]
  },
  {
   "cell_type": "code",
   "execution_count": 15,
   "metadata": {},
   "outputs": [
    {
     "data": {
      "text/plain": [
       "dict"
      ]
     },
     "execution_count": 15,
     "metadata": {},
     "output_type": "execute_result"
    }
   ],
   "source": [
    "# deserialize, decode from json string into Python Data structure\n",
    "my_data = json.loads(raw_txt)\n",
    "type(my_data)"
   ]
  },
  {
   "cell_type": "code",
   "execution_count": 16,
   "metadata": {},
   "outputs": [
    {
     "data": {
      "text/plain": [
       "dict_keys(['firstName', 'lastName', 'hobbies', 'age', 'children'])"
      ]
     },
     "execution_count": 16,
     "metadata": {},
     "output_type": "execute_result"
    }
   ],
   "source": [
    "my_data.keys()"
   ]
  },
  {
   "cell_type": "code",
   "execution_count": 17,
   "metadata": {},
   "outputs": [
    {
     "data": {
      "text/plain": [
       "[{'firstName': 'Alice', 'age': 7},\n",
       " {'firstName': 'Bob', 'age': 13},\n",
       " {'firstName': 'Ede', 'age': 11}]"
      ]
     },
     "execution_count": 17,
     "metadata": {},
     "output_type": "execute_result"
    }
   ],
   "source": [
    "my_data['children']"
   ]
  },
  {
   "cell_type": "code",
   "execution_count": 18,
   "metadata": {},
   "outputs": [
    {
     "data": {
      "text/plain": [
       "dict"
      ]
     },
     "execution_count": 18,
     "metadata": {},
     "output_type": "execute_result"
    }
   ],
   "source": [
    "# more often we will load json immediately\n",
    "with open(\"data_file_indented.json\") as f:\n",
    "    my_data_2 = json.load(f)\n",
    "type(my_data_2)"
   ]
  },
  {
   "cell_type": "code",
   "execution_count": 19,
   "metadata": {},
   "outputs": [
    {
     "data": {
      "text/plain": [
       "(True, False)"
      ]
     },
     "execution_count": 19,
     "metadata": {},
     "output_type": "execute_result"
    }
   ],
   "source": [
    "# contents are the same but two different objects\n",
    "my_data == my_data_2, my_data is my_data_2"
   ]
  },
  {
   "cell_type": "code",
   "execution_count": 20,
   "metadata": {},
   "outputs": [
    {
     "data": {
      "text/plain": [
       "'{\"firstName\": \"Jane\", \"lastName\": \"Doe\", \"hobbies\": [\"running\", \"sky diving\", \"dancing\"], \"age\": 43,'"
      ]
     },
     "execution_count": 20,
     "metadata": {},
     "output_type": "execute_result"
    }
   ],
   "source": [
    "my_json_string = json.dumps(my_data) # converst Python data structure into json string\n",
    "my_json_string[:100]"
   ]
  },
  {
   "cell_type": "code",
   "execution_count": 22,
   "metadata": {},
   "outputs": [
    {
     "data": {
      "text/plain": [
       "str"
      ]
     },
     "execution_count": 22,
     "metadata": {},
     "output_type": "execute_result"
    }
   ],
   "source": [
    "type(my_json_string)"
   ]
  },
  {
   "cell_type": "code",
   "execution_count": null,
   "metadata": {},
   "outputs": [],
   "source": [
    "json.loads(my_json_string)"
   ]
  },
  {
   "cell_type": "code",
   "execution_count": null,
   "metadata": {},
   "outputs": [],
   "source": [
    "json.dumps(my_data)"
   ]
  },
  {
   "cell_type": "code",
   "execution_count": 24,
   "metadata": {},
   "outputs": [],
   "source": [
    "import requests # this library is not included with Python but is very popular and comes with Anaconda\n",
    "# pip install requests otherwise"
   ]
  },
  {
   "cell_type": "code",
   "execution_count": 26,
   "metadata": {},
   "outputs": [
    {
     "name": "stdout",
     "output_type": "stream",
     "text": [
      "200\n"
     ]
    }
   ],
   "source": [
    "# we make a http request to a url and print the response code\n",
    "url = \"https://my.api.mockaroo.com/ageincluded.json?key=58227cb0\"\n",
    "response = requests.get(url)\n",
    "print(response.status_code) # Response Code 200 is good!"
   ]
  },
  {
   "cell_type": "code",
   "execution_count": 27,
   "metadata": {},
   "outputs": [
    {
     "data": {
      "text/plain": [
       "(list, 100)"
      ]
     },
     "execution_count": 27,
     "metadata": {},
     "output_type": "execute_result"
    }
   ],
   "source": [
    "data_from_json = response.json() # we do not need json.loads\n",
    "type(data_from_json), len(data_from_json)"
   ]
  },
  {
   "cell_type": "code",
   "execution_count": 28,
   "metadata": {},
   "outputs": [
    {
     "data": {
      "text/plain": [
       "'[{\"id\":1,\"first_name\":\"Josepha\",\"last_name\":\"Eake\"'"
      ]
     },
     "execution_count": 28,
     "metadata": {},
     "output_type": "execute_result"
    }
   ],
   "source": [
    "response.text[:50]"
   ]
  },
  {
   "cell_type": "code",
   "execution_count": 29,
   "metadata": {},
   "outputs": [
    {
     "data": {
      "text/plain": [
       "(list, 100)"
      ]
     },
     "execution_count": 29,
     "metadata": {},
     "output_type": "execute_result"
    }
   ],
   "source": [
    "my_mock_data = json.loads(response.text)\n",
    "type(my_mock_data), len(my_mock_data)"
   ]
  },
  {
   "cell_type": "code",
   "execution_count": 30,
   "metadata": {},
   "outputs": [
    {
     "data": {
      "text/plain": [
       "(True, False)"
      ]
     },
     "execution_count": 30,
     "metadata": {},
     "output_type": "execute_result"
    }
   ],
   "source": [
    "data_from_json == my_mock_data, data_from_json is my_mock_data"
   ]
  },
  {
   "cell_type": "code",
   "execution_count": 31,
   "metadata": {},
   "outputs": [],
   "source": [
    "import pandas as pd"
   ]
  },
  {
   "cell_type": "code",
   "execution_count": 32,
   "metadata": {},
   "outputs": [
    {
     "data": {
      "text/html": [
       "<div>\n",
       "<style scoped>\n",
       "    .dataframe tbody tr th:only-of-type {\n",
       "        vertical-align: middle;\n",
       "    }\n",
       "\n",
       "    .dataframe tbody tr th {\n",
       "        vertical-align: top;\n",
       "    }\n",
       "\n",
       "    .dataframe thead th {\n",
       "        text-align: right;\n",
       "    }\n",
       "</style>\n",
       "<table border=\"1\" class=\"dataframe\">\n",
       "  <thead>\n",
       "    <tr style=\"text-align: right;\">\n",
       "      <th></th>\n",
       "      <th>id</th>\n",
       "      <th>first_name</th>\n",
       "      <th>last_name</th>\n",
       "      <th>email</th>\n",
       "      <th>gender</th>\n",
       "      <th>ip_address</th>\n",
       "      <th>age</th>\n",
       "    </tr>\n",
       "  </thead>\n",
       "  <tbody>\n",
       "    <tr>\n",
       "      <th>0</th>\n",
       "      <td>1</td>\n",
       "      <td>Rici</td>\n",
       "      <td>Arger</td>\n",
       "      <td>rarger0@army.mil</td>\n",
       "      <td>Female</td>\n",
       "      <td>209.227.21.140</td>\n",
       "      <td>83</td>\n",
       "    </tr>\n",
       "    <tr>\n",
       "      <th>1</th>\n",
       "      <td>2</td>\n",
       "      <td>Babb</td>\n",
       "      <td>Hum</td>\n",
       "      <td>bhum1@gmpg.org</td>\n",
       "      <td>Female</td>\n",
       "      <td>121.46.95.63</td>\n",
       "      <td>2</td>\n",
       "    </tr>\n",
       "    <tr>\n",
       "      <th>2</th>\n",
       "      <td>3</td>\n",
       "      <td>Lilas</td>\n",
       "      <td>Gauld</td>\n",
       "      <td>lgauld2@pbs.org</td>\n",
       "      <td>Female</td>\n",
       "      <td>177.67.220.182</td>\n",
       "      <td>63</td>\n",
       "    </tr>\n",
       "    <tr>\n",
       "      <th>3</th>\n",
       "      <td>4</td>\n",
       "      <td>Gearalt</td>\n",
       "      <td>Beden</td>\n",
       "      <td>gbeden3@tinypic.com</td>\n",
       "      <td>Male</td>\n",
       "      <td>65.177.163.128</td>\n",
       "      <td>75</td>\n",
       "    </tr>\n",
       "    <tr>\n",
       "      <th>4</th>\n",
       "      <td>5</td>\n",
       "      <td>Danell</td>\n",
       "      <td>Densie</td>\n",
       "      <td>ddensie4@sphinn.com</td>\n",
       "      <td>Female</td>\n",
       "      <td>156.19.35.52</td>\n",
       "      <td>63</td>\n",
       "    </tr>\n",
       "  </tbody>\n",
       "</table>\n",
       "</div>"
      ],
      "text/plain": [
       "   id first_name last_name                email  gender      ip_address  age\n",
       "0   1       Rici     Arger     rarger0@army.mil  Female  209.227.21.140   83\n",
       "1   2       Babb       Hum       bhum1@gmpg.org  Female    121.46.95.63    2\n",
       "2   3      Lilas     Gauld      lgauld2@pbs.org  Female  177.67.220.182   63\n",
       "3   4    Gearalt     Beden  gbeden3@tinypic.com    Male  65.177.163.128   75\n",
       "4   5     Danell    Densie  ddensie4@sphinn.com  Female    156.19.35.52   63"
      ]
     },
     "execution_count": 32,
     "metadata": {},
     "output_type": "execute_result"
    }
   ],
   "source": [
    "df = pd.read_json(url)\n",
    "df.head()"
   ]
  },
  {
   "cell_type": "code",
   "execution_count": 33,
   "metadata": {},
   "outputs": [],
   "source": [
    "df.to_csv(\"mock_data.csv\")"
   ]
  },
  {
   "cell_type": "code",
   "execution_count": 17,
   "metadata": {},
   "outputs": [],
   "source": [
    "# idea get average age of Japanese Men in our JSON data\n",
    "\n"
   ]
  },
  {
   "cell_type": "code",
   "execution_count": 34,
   "metadata": {},
   "outputs": [
    {
     "data": {
      "text/plain": [
       "[{'id': 1,\n",
       "  'first_name': 'Josepha',\n",
       "  'last_name': 'Eake',\n",
       "  'email': 'jeake0@amazonaws.com',\n",
       "  'gender': 'Female',\n",
       "  'ip_address': '185.12.237.11',\n",
       "  'age': 7},\n",
       " {'id': 2,\n",
       "  'first_name': 'Rodolphe',\n",
       "  'last_name': 'Schuler',\n",
       "  'email': 'rschuler1@newsvine.com',\n",
       "  'gender': 'Male',\n",
       "  'ip_address': '164.199.100.126',\n",
       "  'age': 26},\n",
       " {'id': 3,\n",
       "  'first_name': 'Perren',\n",
       "  'last_name': 'Brant',\n",
       "  'email': 'pbrant2@china.com.cn',\n",
       "  'gender': 'Male',\n",
       "  'ip_address': '107.41.214.82',\n",
       "  'age': 18},\n",
       " {'id': 4,\n",
       "  'first_name': 'Denis',\n",
       "  'last_name': 'Parr',\n",
       "  'email': 'dparr3@si.edu',\n",
       "  'gender': 'Male',\n",
       "  'ip_address': '240.142.62.64',\n",
       "  'age': 98},\n",
       " {'id': 5,\n",
       "  'first_name': 'Grover',\n",
       "  'last_name': 'Hauxby',\n",
       "  'email': 'ghauxby4@amazon.de',\n",
       "  'gender': 'Male',\n",
       "  'ip_address': '228.154.164.143',\n",
       "  'age': 22}]"
      ]
     },
     "execution_count": 34,
     "metadata": {},
     "output_type": "execute_result"
    }
   ],
   "source": [
    "data_from_json[:5]"
   ]
  },
  {
   "cell_type": "code",
   "execution_count": 36,
   "metadata": {},
   "outputs": [],
   "source": [
    "myjson = data_from_json # just an alias"
   ]
  },
  {
   "cell_type": "code",
   "execution_count": 37,
   "metadata": {},
   "outputs": [
    {
     "data": {
      "text/plain": [
       "[{'id': 44,\n",
       "  'first_name': 'Koren',\n",
       "  'last_name': 'Warrier',\n",
       "  'email': 'kwarrier17@plala.or.jp',\n",
       "  'gender': 'Female',\n",
       "  'ip_address': '122.6.242.67',\n",
       "  'age': 50}]"
      ]
     },
     "execution_count": 37,
     "metadata": {},
     "output_type": "execute_result"
    }
   ],
   "source": [
    "japanese = [person for person in myjson if person.get('email').endswith('.jp')]\n",
    "# potentially person.get('email') could return None then .endswith('.jp') would fail with error\n",
    "japanese"
   ]
  },
  {
   "cell_type": "code",
   "execution_count": 38,
   "metadata": {},
   "outputs": [
    {
     "data": {
      "text/plain": [
       "[]"
      ]
     },
     "execution_count": 38,
     "metadata": {},
     "output_type": "execute_result"
    }
   ],
   "source": [
    "japanese_men = [p for p in japanese if p.get('gender') == \"Male\"]\n",
    "# potentially person.get('email') could return None then .endswith('.jp') would fail with error\n",
    "japanese_men"
   ]
  },
  {
   "cell_type": "code",
   "execution_count": 41,
   "metadata": {},
   "outputs": [
    {
     "data": {
      "text/plain": [
       "[{'id': 38,\n",
       "  'first_name': 'Homerus',\n",
       "  'last_name': 'Gulvin',\n",
       "  'email': 'hgulvin11@ebay.co.uk',\n",
       "  'gender': 'Male',\n",
       "  'ip_address': '121.170.114.67',\n",
       "  'age': 52},\n",
       " {'id': 57,\n",
       "  'first_name': 'Alick',\n",
       "  'last_name': 'Alleburton',\n",
       "  'email': 'aalleburton1k@amazon.co.uk',\n",
       "  'gender': 'Male',\n",
       "  'ip_address': '39.163.123.220',\n",
       "  'age': 87},\n",
       " {'id': 64,\n",
       "  'first_name': 'Ham',\n",
       "  'last_name': 'Corkett',\n",
       "  'email': 'hcorkett1r@independent.co.uk',\n",
       "  'gender': 'Male',\n",
       "  'ip_address': '99.232.42.24',\n",
       "  'age': 48}]"
      ]
     },
     "execution_count": 41,
     "metadata": {},
     "output_type": "execute_result"
    }
   ],
   "source": [
    "uk = [person for person in myjson if person.get('email',\"\").endswith('.uk')]\n",
    "uk"
   ]
  },
  {
   "cell_type": "code",
   "execution_count": 40,
   "metadata": {},
   "outputs": [
    {
     "data": {
      "text/plain": [
       "[('Homerus', 52), ('Alick', 87), ('Ham', 48)]"
      ]
     },
     "execution_count": 40,
     "metadata": {},
     "output_type": "execute_result"
    }
   ],
   "source": [
    "uk_ages = [(person.get('first_name'),int(person.get('age'))) for person in uk]\n",
    "uk_ages"
   ]
  },
  {
   "cell_type": "code",
   "execution_count": 29,
   "metadata": {},
   "outputs": [
    {
     "data": {
      "text/plain": [
       "[('Bradley', 26)]"
      ]
     },
     "execution_count": 29,
     "metadata": {},
     "output_type": "execute_result"
    }
   ],
   "source": [
    "jp_ages = [(person.get('first_name'),int(person.get('age'))) for person in japanese]\n",
    "jp_ages"
   ]
  },
  {
   "cell_type": "code",
   "execution_count": 42,
   "metadata": {},
   "outputs": [],
   "source": [
    "with open(\"uk_ages.json\", mode=\"w\") as fstream:\n",
    "    json.dump(uk_ages, fstream, indent=4)"
   ]
  },
  {
   "cell_type": "code",
   "execution_count": 43,
   "metadata": {},
   "outputs": [
    {
     "data": {
      "text/plain": [
       "[['Homerus', 52], ['Alick', 87], ['Ham', 48]]"
      ]
     },
     "execution_count": 43,
     "metadata": {},
     "output_type": "execute_result"
    }
   ],
   "source": [
    "# so we lose the tuple designed when writing to JSON and back\n",
    "with open(\"uk_ages.json\") as fstream:\n",
    "    uk_data = json.load(fstream)\n",
    "uk_data"
   ]
  },
  {
   "cell_type": "code",
   "execution_count": 31,
   "metadata": {},
   "outputs": [],
   "source": [
    "with open(\"jp_ages.json\", mode=\"w\") as fstream:\n",
    "    json.dump(jp_ages, fstream, indent=4)"
   ]
  },
  {
   "cell_type": "code",
   "execution_count": null,
   "metadata": {},
   "outputs": [],
   "source": []
  },
  {
   "cell_type": "code",
   "execution_count": 25,
   "metadata": {},
   "outputs": [
    {
     "data": {
      "text/plain": [
       "dict"
      ]
     },
     "execution_count": 25,
     "metadata": {},
     "output_type": "execute_result"
    }
   ],
   "source": [
    "type(mydata)"
   ]
  },
  {
   "cell_type": "code",
   "execution_count": null,
   "metadata": {},
   "outputs": [],
   "source": []
  },
  {
   "cell_type": "code",
   "execution_count": 27,
   "metadata": {
    "scrolled": true
   },
   "outputs": [
    {
     "data": {
      "text/plain": [
       "str"
      ]
     },
     "execution_count": 27,
     "metadata": {},
     "output_type": "execute_result"
    }
   ],
   "source": [
    "type(json_string)"
   ]
  },
  {
   "cell_type": "code",
   "execution_count": 28,
   "metadata": {},
   "outputs": [
    {
     "data": {
      "text/plain": [
       "dict"
      ]
     },
     "execution_count": 28,
     "metadata": {},
     "output_type": "execute_result"
    }
   ],
   "source": [
    "type(mydata)"
   ]
  },
  {
   "cell_type": "code",
   "execution_count": 29,
   "metadata": {},
   "outputs": [
    {
     "data": {
      "text/plain": [
       "{'firstName': 'Jane',\n",
       " 'lastName': 'Doe',\n",
       " 'hobbies': ['running', 'sky diving', 'dancing'],\n",
       " 'age': 43,\n",
       " 'children': [{'firstName': 'Alice', 'age': 7},\n",
       "  {'firstName': 'Bob', 'age': 13}]}"
      ]
     },
     "execution_count": 29,
     "metadata": {},
     "output_type": "execute_result"
    }
   ],
   "source": [
    "# Convert Json_string back to our Python Object\n",
    "my_obj = json.loads(json_string)\n",
    "my_obj"
   ]
  },
  {
   "cell_type": "code",
   "execution_count": 30,
   "metadata": {},
   "outputs": [
    {
     "data": {
      "text/plain": [
       "'Jane'"
      ]
     },
     "execution_count": 30,
     "metadata": {},
     "output_type": "execute_result"
    }
   ],
   "source": [
    "my_obj.get('firstName')"
   ]
  },
  {
   "cell_type": "code",
   "execution_count": 21,
   "metadata": {},
   "outputs": [
    {
     "data": {
      "text/plain": [
       "{'firstName': 'Jane',\n",
       " 'lastName': 'Doe',\n",
       " 'hobbies': ['running', 'sky diving', 'dancing'],\n",
       " 'age': 43,\n",
       " 'children': [{'firstName': 'Alice', 'age': 7},\n",
       "  {'firstName': 'Bob', 'age': 13}]}"
      ]
     },
     "execution_count": 21,
     "metadata": {},
     "output_type": "execute_result"
    }
   ],
   "source": [
    "mydata"
   ]
  },
  {
   "cell_type": "code",
   "execution_count": 22,
   "metadata": {},
   "outputs": [
    {
     "data": {
      "text/plain": [
       "[1, 3, 5, 'Valdis']"
      ]
     },
     "execution_count": 22,
     "metadata": {},
     "output_type": "execute_result"
    }
   ],
   "source": [
    "newlist = json.loads('[1,3,5,\"Valdis\"]')\n",
    "newlist"
   ]
  },
  {
   "cell_type": "code",
   "execution_count": 23,
   "metadata": {},
   "outputs": [
    {
     "data": {
      "text/plain": [
       "list"
      ]
     },
     "execution_count": 23,
     "metadata": {},
     "output_type": "execute_result"
    }
   ],
   "source": [
    "type(newlist)"
   ]
  },
  {
   "cell_type": "code",
   "execution_count": 27,
   "metadata": {},
   "outputs": [
    {
     "data": {
      "text/plain": [
       "[1, 3, 5, 'Vald]', 334342]"
      ]
     },
     "execution_count": 27,
     "metadata": {},
     "output_type": "execute_result"
    }
   ],
   "source": [
    "badlist = json.loads('[1,3,5,\"Vald]\",334342]')\n",
    "badlist"
   ]
  },
  {
   "cell_type": "code",
   "execution_count": null,
   "metadata": {},
   "outputs": [],
   "source": []
  },
  {
   "cell_type": "code",
   "execution_count": null,
   "metadata": {},
   "outputs": [],
   "source": [
    "type(json_string)"
   ]
  },
  {
   "cell_type": "code",
   "execution_count": null,
   "metadata": {},
   "outputs": [],
   "source": [
    "# Avove example JSON and Python object have the same syntax but there are some differences"
   ]
  },
  {
   "cell_type": "markdown",
   "metadata": {},
   "source": [
    "![object](../img/object.png)"
   ]
  },
  {
   "cell_type": "markdown",
   "metadata": {},
   "source": [
    "![Array](../img/array.png)"
   ]
  },
  {
   "cell_type": "markdown",
   "metadata": {},
   "source": [
    "![Value](../img/value.png)"
   ]
  },
  {
   "cell_type": "markdown",
   "metadata": {},
   "source": [
    "Simple Python objects are translated to JSON according to a fairly intuitive conversion.\n",
    "\n",
    "Python\tJSON\n",
    "\n",
    "dict\tobject\n",
    "\n",
    "list, tuple\tarray\n",
    "\n",
    "str\tstring\n",
    "\n",
    "int, long, \n",
    "\n",
    "float\tnumber\n",
    "\n",
    "True\ttrue\n",
    "\n",
    "False\tfalse\n",
    "\n",
    "None\tnull"
   ]
  },
  {
   "cell_type": "code",
   "execution_count": 28,
   "metadata": {},
   "outputs": [
    {
     "data": {
      "text/plain": [
       "[True, 2, None, False, 555.333]"
      ]
     },
     "execution_count": 28,
     "metadata": {},
     "output_type": "execute_result"
    }
   ],
   "source": [
    "newlist = json.loads('[true,2,null, false, 555.333]')\n",
    "newlist"
   ]
  },
  {
   "cell_type": "code",
   "execution_count": 29,
   "metadata": {},
   "outputs": [
    {
     "data": {
      "text/plain": [
       "'{\"firstName\": \"Jane\", \"lastName\": \"Doe\", \"hobbies\": [\"running\", \"sky diving\", \"dancing\"], \"age\": 43, \"children\": [{\"firstName\": \"Alice\", \"age\": 7}, {\"firstName\": \"Bob\", \"age\": 13}]}'"
      ]
     },
     "execution_count": 29,
     "metadata": {},
     "output_type": "execute_result"
    }
   ],
   "source": [
    "# The first option most people want to change is whitespace. You can use the indent keyword argument to specify the indentation size for nested structures. Check out the difference for yourself by using data, which we defined above, and running the following commands in a console:\n",
    "\n",
    "json.dumps(mydata)\n"
   ]
  },
  {
   "cell_type": "code",
   "execution_count": 30,
   "metadata": {},
   "outputs": [
    {
     "name": "stdout",
     "output_type": "stream",
     "text": [
      "{\n",
      "    \"firstName\": \"Jane\",\n",
      "    \"lastName\": \"Doe\",\n",
      "    \"hobbies\": [\n",
      "        \"running\",\n",
      "        \"sky diving\",\n",
      "        \"dancing\"\n",
      "    ],\n",
      "    \"age\": 43,\n",
      "    \"children\": [\n",
      "        {\n",
      "            \"firstName\": \"Alice\",\n",
      "            \"age\": 7\n",
      "        },\n",
      "        {\n",
      "            \"firstName\": \"Bob\",\n",
      "            \"age\": 13\n",
      "        }\n",
      "    ]\n",
      "}\n"
     ]
    }
   ],
   "source": [
    "# very useful for visibility!\n",
    "print(json.dumps(mydata, indent=4))"
   ]
  },
  {
   "cell_type": "code",
   "execution_count": 31,
   "metadata": {},
   "outputs": [],
   "source": [
    "with open(\"data_file.json\", \"w\") as write_file:\n",
    "    json.dump(mydata, write_file, indent=4)"
   ]
  },
  {
   "cell_type": "code",
   "execution_count": 31,
   "metadata": {},
   "outputs": [
    {
     "data": {
      "text/plain": [
       "{'firstName': 'Jane',\n",
       " 'lastName': 'Doe',\n",
       " 'hobbies': ['running', 'sky diving', 'dancing'],\n",
       " 'age': 43,\n",
       " 'children': [{'firstName': 'Alice', 'age': 7},\n",
       "  {'firstName': 'Bob', 'age': 13}]}"
      ]
     },
     "execution_count": 31,
     "metadata": {},
     "output_type": "execute_result"
    }
   ],
   "source": [
    "# how to read json into our python data obj from file\n",
    "with open(\"data_file.json\", \"r\") as read_file:\n",
    "    data = json.load(read_file)\n",
    "data"
   ]
  },
  {
   "cell_type": "code",
   "execution_count": 33,
   "metadata": {},
   "outputs": [
    {
     "data": {
      "text/plain": [
       "dict"
      ]
     },
     "execution_count": 33,
     "metadata": {},
     "output_type": "execute_result"
    }
   ],
   "source": [
    "type(data)"
   ]
  },
  {
   "cell_type": "code",
   "execution_count": 34,
   "metadata": {},
   "outputs": [
    {
     "data": {
      "text/plain": [
       "5"
      ]
     },
     "execution_count": 34,
     "metadata": {},
     "output_type": "execute_result"
    }
   ],
   "source": [
    "len(data)"
   ]
  },
  {
   "cell_type": "code",
   "execution_count": 37,
   "metadata": {},
   "outputs": [
    {
     "data": {
      "text/plain": [
       "[('firstName', 'Jane'),\n",
       " ('lastName', 'Doe'),\n",
       " ('hobbies', ['running', 'sky diving', 'dancing']),\n",
       " ('age', 43),\n",
       " ('children',\n",
       "  [{'firstName': 'Alice', 'age': 7}, {'firstName': 'Bob', 'age': 13}])]"
      ]
     },
     "execution_count": 37,
     "metadata": {},
     "output_type": "execute_result"
    }
   ],
   "source": [
    "list(data.items())"
   ]
  },
  {
   "cell_type": "code",
   "execution_count": 40,
   "metadata": {},
   "outputs": [
    {
     "data": {
      "text/plain": [
       "[(0, ('firstName', 'Jane')),\n",
       " (1, ('lastName', 'Doe')),\n",
       " (2, ('hobbies', ['running', 'sky diving', 'dancing'])),\n",
       " (3, ('age', 43)),\n",
       " (4,\n",
       "  ('children',\n",
       "   [{'firstName': 'Alice', 'age': 7}, {'firstName': 'Bob', 'age': 13}]))]"
      ]
     },
     "execution_count": 40,
     "metadata": {},
     "output_type": "execute_result"
    }
   ],
   "source": [
    "numberedlist = list(enumerate(data.items()))\n",
    "numberedlist"
   ]
  },
  {
   "cell_type": "code",
   "execution_count": 42,
   "metadata": {},
   "outputs": [],
   "source": [
    "# save numberedlist with ident = 4 in file numberedlist.json\n",
    "with open('numberedlist.json', mode='w') as f:\n",
    "    json.dump(numberedlist, f, indent=4)\n"
   ]
  },
  {
   "cell_type": "markdown",
   "metadata": {},
   "source": [
    "Keep in mind that the result of this method could return any of the allowed data types from the conversion table. This is only important if you’re loading in data you haven’t seen before. In most cases, the root object will be a dict or a list."
   ]
  },
  {
   "cell_type": "markdown",
   "metadata": {},
   "source": [
    "If you've gotten JSON data in from another program or have otherwise obtained a string of JSON formatted data in Python, you can easily deserialize that with loads(), which naturally loads from a string:"
   ]
  },
  {
   "cell_type": "code",
   "execution_count": 43,
   "metadata": {},
   "outputs": [
    {
     "data": {
      "text/plain": [
       "{'researcher': {'name': 'Ford Prefect',\n",
       "  'species': 'Betelgeusian',\n",
       "  'relatives': [{'name': 'Zaphod Beeblebrox', 'species': 'Betelgeusian'}]}}"
      ]
     },
     "execution_count": 43,
     "metadata": {},
     "output_type": "execute_result"
    }
   ],
   "source": [
    "json_string = \"\"\"\n",
    "{\n",
    "    \"researcher\": {\n",
    "        \"name\": \"Ford Prefect\",\n",
    "        \"species\": \"Betelgeusian\",\n",
    "        \"relatives\": [\n",
    "            {\n",
    "                \"name\": \"Zaphod Beeblebrox\",\n",
    "                \"species\": \"Betelgeusian\"\n",
    "            }\n",
    "        ]\n",
    "    }\n",
    "}\n",
    "\"\"\"\n",
    "data = json.loads(json_string)\n",
    "data"
   ]
  },
  {
   "cell_type": "code",
   "execution_count": 44,
   "metadata": {},
   "outputs": [
    {
     "data": {
      "text/plain": [
       "{'name': 'Ford Prefect',\n",
       " 'species': 'Betelgeusian',\n",
       " 'relatives': [{'name': 'Zaphod Beeblebrox', 'species': 'Betelgeusian'}]}"
      ]
     },
     "execution_count": 44,
     "metadata": {},
     "output_type": "execute_result"
    }
   ],
   "source": [
    "# get value of relative's name\n",
    "data['researcher']"
   ]
  },
  {
   "cell_type": "code",
   "execution_count": 45,
   "metadata": {},
   "outputs": [
    {
     "data": {
      "text/plain": [
       "[{'name': 'Zaphod Beeblebrox', 'species': 'Betelgeusian'}]"
      ]
     },
     "execution_count": 45,
     "metadata": {},
     "output_type": "execute_result"
    }
   ],
   "source": [
    "# get value of relative's name\n",
    "data['researcher']['relatives']"
   ]
  },
  {
   "cell_type": "code",
   "execution_count": 46,
   "metadata": {},
   "outputs": [
    {
     "data": {
      "text/plain": [
       "{'name': 'Zaphod Beeblebrox', 'species': 'Betelgeusian'}"
      ]
     },
     "execution_count": 46,
     "metadata": {},
     "output_type": "execute_result"
    }
   ],
   "source": [
    "# get value of relative's name\n",
    "data['researcher']['relatives'][0]"
   ]
  },
  {
   "cell_type": "code",
   "execution_count": 48,
   "metadata": {},
   "outputs": [
    {
     "data": {
      "text/plain": [
       "'Zaphod Beeblebrox'"
      ]
     },
     "execution_count": 48,
     "metadata": {},
     "output_type": "execute_result"
    }
   ],
   "source": [
    "# get value of relative's name\n",
    "data['researcher']['relatives'][0]['name']"
   ]
  },
  {
   "cell_type": "code",
   "execution_count": 49,
   "metadata": {},
   "outputs": [
    {
     "data": {
      "text/plain": [
       "'Zaphod'"
      ]
     },
     "execution_count": 49,
     "metadata": {},
     "output_type": "execute_result"
    }
   ],
   "source": [
    "data['researcher']['relatives'][0]['name'].split()[0]"
   ]
  },
  {
   "cell_type": "code",
   "execution_count": 50,
   "metadata": {},
   "outputs": [
    {
     "data": {
      "text/plain": [
       "'Zaph'"
      ]
     },
     "execution_count": 50,
     "metadata": {},
     "output_type": "execute_result"
    }
   ],
   "source": [
    "data['researcher']['relatives'][0]['name'].split()[0][:4]"
   ]
  },
  {
   "cell_type": "code",
   "execution_count": null,
   "metadata": {},
   "outputs": [],
   "source": [
    "type(data)"
   ]
  },
  {
   "cell_type": "code",
   "execution_count": 51,
   "metadata": {},
   "outputs": [],
   "source": [
    "import json\n",
    "import requests"
   ]
  },
  {
   "cell_type": "code",
   "execution_count": null,
   "metadata": {},
   "outputs": [],
   "source": [
    "## Lets get some data https://jsonplaceholder.typicode.com/"
   ]
  },
  {
   "cell_type": "code",
   "execution_count": 44,
   "metadata": {},
   "outputs": [
    {
     "name": "stdout",
     "output_type": "stream",
     "text": [
      "200\n"
     ]
    }
   ],
   "source": [
    "response = requests.get(\"https://jsonplaceholder.typicode.com/todos\")\n",
    "if response.status_code != 200:\n",
    "    print(\"Bad Response: \", response.status_code)\n",
    "print(response.status_code)\n",
    "todos = json.loads(response.text)\n"
   ]
  },
  {
   "cell_type": "markdown",
   "metadata": {},
   "source": [
    "can open https://jsonplaceholder.typicode.com/todos in regular browser too.."
   ]
  },
  {
   "cell_type": "code",
   "execution_count": 45,
   "metadata": {},
   "outputs": [
    {
     "data": {
      "text/plain": [
       "list"
      ]
     },
     "execution_count": 45,
     "metadata": {},
     "output_type": "execute_result"
    }
   ],
   "source": [
    "type(todos)"
   ]
  },
  {
   "cell_type": "code",
   "execution_count": 40,
   "metadata": {},
   "outputs": [
    {
     "data": {
      "text/plain": [
       "200"
      ]
     },
     "execution_count": 40,
     "metadata": {},
     "output_type": "execute_result"
    }
   ],
   "source": [
    "len(todos)"
   ]
  },
  {
   "cell_type": "code",
   "execution_count": 46,
   "metadata": {},
   "outputs": [
    {
     "data": {
      "text/plain": [
       "[{'userId': 1, 'id': 1, 'title': 'delectus aut autem', 'completed': False},\n",
       " {'userId': 1,\n",
       "  'id': 2,\n",
       "  'title': 'quis ut nam facilis et officia qui',\n",
       "  'completed': False},\n",
       " {'userId': 1, 'id': 3, 'title': 'fugiat veniam minus', 'completed': False},\n",
       " {'userId': 1, 'id': 4, 'title': 'et porro tempora', 'completed': True},\n",
       " {'userId': 1,\n",
       "  'id': 5,\n",
       "  'title': 'laboriosam mollitia et enim quasi adipisci quia provident illum',\n",
       "  'completed': False},\n",
       " {'userId': 1,\n",
       "  'id': 6,\n",
       "  'title': 'qui ullam ratione quibusdam voluptatem quia omnis',\n",
       "  'completed': False},\n",
       " {'userId': 1,\n",
       "  'id': 7,\n",
       "  'title': 'illo expedita consequatur quia in',\n",
       "  'completed': False},\n",
       " {'userId': 1,\n",
       "  'id': 8,\n",
       "  'title': 'quo adipisci enim quam ut ab',\n",
       "  'completed': True},\n",
       " {'userId': 1,\n",
       "  'id': 9,\n",
       "  'title': 'molestiae perspiciatis ipsa',\n",
       "  'completed': False},\n",
       " {'userId': 1,\n",
       "  'id': 10,\n",
       "  'title': 'illo est ratione doloremque quia maiores aut',\n",
       "  'completed': True}]"
      ]
     },
     "execution_count": 46,
     "metadata": {},
     "output_type": "execute_result"
    }
   ],
   "source": [
    "todos[:10]"
   ]
  },
  {
   "cell_type": "code",
   "execution_count": 47,
   "metadata": {},
   "outputs": [
    {
     "data": {
      "text/plain": [
       "90"
      ]
     },
     "execution_count": 47,
     "metadata": {},
     "output_type": "execute_result"
    }
   ],
   "source": [
    "# completedworks = [el for el in todos if el['completed'] == True]\n",
    "completedworks = [el for el in todos if el.get('completed') == True]\n",
    "len(completedworks)"
   ]
  },
  {
   "cell_type": "code",
   "execution_count": 48,
   "metadata": {},
   "outputs": [
    {
     "data": {
      "text/plain": [
       "[{'userId': 10, 'id': 188, 'title': 'vel non beatae est', 'completed': True},\n",
       " {'userId': 10,\n",
       "  'id': 189,\n",
       "  'title': 'culpa eius et voluptatem et',\n",
       "  'completed': True},\n",
       " {'userId': 10,\n",
       "  'id': 190,\n",
       "  'title': 'accusamus sint iusto et voluptatem exercitationem',\n",
       "  'completed': True},\n",
       " {'userId': 10,\n",
       "  'id': 191,\n",
       "  'title': 'temporibus atque distinctio omnis eius impedit tempore molestias pariatur',\n",
       "  'completed': True},\n",
       " {'userId': 10,\n",
       "  'id': 193,\n",
       "  'title': 'rerum debitis voluptatem qui eveniet tempora distinctio a',\n",
       "  'completed': True},\n",
       " {'userId': 10,\n",
       "  'id': 195,\n",
       "  'title': 'rerum ex veniam mollitia voluptatibus pariatur',\n",
       "  'completed': True},\n",
       " {'userId': 10,\n",
       "  'id': 196,\n",
       "  'title': 'consequuntur aut ut fugit similique',\n",
       "  'completed': True},\n",
       " {'userId': 10,\n",
       "  'id': 197,\n",
       "  'title': 'dignissimos quo nobis earum saepe',\n",
       "  'completed': True},\n",
       " {'userId': 10,\n",
       "  'id': 198,\n",
       "  'title': 'quis eius est sint explicabo',\n",
       "  'completed': True},\n",
       " {'userId': 10,\n",
       "  'id': 199,\n",
       "  'title': 'numquam repellendus a magnam',\n",
       "  'completed': True}]"
      ]
     },
     "execution_count": 48,
     "metadata": {},
     "output_type": "execute_result"
    }
   ],
   "source": [
    "completedworks[-10:]"
   ]
  },
  {
   "cell_type": "code",
   "execution_count": 61,
   "metadata": {},
   "outputs": [
    {
     "data": {
      "text/plain": [
       "list"
      ]
     },
     "execution_count": 61,
     "metadata": {},
     "output_type": "execute_result"
    }
   ],
   "source": [
    "type(completedworks)"
   ]
  },
  {
   "cell_type": "code",
   "execution_count": 49,
   "metadata": {},
   "outputs": [
    {
     "data": {
      "text/plain": [
       "{1: 11, 2: 8, 3: 7, 4: 6, 5: 12, 6: 6, 7: 9, 8: 11, 9: 8, 10: 12}"
      ]
     },
     "execution_count": 49,
     "metadata": {},
     "output_type": "execute_result"
    }
   ],
   "source": [
    "users = {}\n",
    "for el in completedworks:\n",
    "    k = el['userId']\n",
    "    if k in users:\n",
    "        users[k] +=1\n",
    "    else:\n",
    "        users[k] = 1\n",
    "users"
   ]
  },
  {
   "cell_type": "code",
   "execution_count": 50,
   "metadata": {},
   "outputs": [
    {
     "data": {
      "text/plain": [
       "[(5, 12),\n",
       " (10, 12),\n",
       " (1, 11),\n",
       " (8, 11),\n",
       " (7, 9),\n",
       " (2, 8),\n",
       " (9, 8),\n",
       " (3, 7),\n",
       " (4, 6),\n",
       " (6, 6)]"
      ]
     },
     "execution_count": 50,
     "metadata": {},
     "output_type": "execute_result"
    }
   ],
   "source": [
    "sorted(users.items(),key = lambda el: el[1], reverse=True)"
   ]
  },
  {
   "cell_type": "code",
   "execution_count": 51,
   "metadata": {},
   "outputs": [],
   "source": [
    "from collections import Counter"
   ]
  },
  {
   "cell_type": "code",
   "execution_count": 52,
   "metadata": {},
   "outputs": [
    {
     "data": {
      "text/plain": [
       "[(5, 12),\n",
       " (10, 12),\n",
       " (1, 11),\n",
       " (8, 11),\n",
       " (7, 9),\n",
       " (2, 8),\n",
       " (9, 8),\n",
       " (3, 7),\n",
       " (4, 6),\n",
       " (6, 6)]"
      ]
     },
     "execution_count": 52,
     "metadata": {},
     "output_type": "execute_result"
    }
   ],
   "source": [
    "count = Counter([el['userId'] for el in completedworks])\n",
    "count.most_common()"
   ]
  },
  {
   "cell_type": "code",
   "execution_count": 53,
   "metadata": {},
   "outputs": [
    {
     "data": {
      "text/plain": [
       "[(5, 12),\n",
       " (10, 12),\n",
       " (1, 11),\n",
       " (8, 11),\n",
       " (7, 9),\n",
       " (2, 8),\n",
       " (9, 8),\n",
       " (3, 7),\n",
       " (4, 6),\n",
       " (6, 6)]"
      ]
     },
     "execution_count": 53,
     "metadata": {},
     "output_type": "execute_result"
    }
   ],
   "source": [
    "# lets do everything at once\n",
    "finishedcount = Counter([el.get('userId') for el in todos if el.get('completed') == True])\n",
    "finishedcount.most_common()"
   ]
  },
  {
   "cell_type": "code",
   "execution_count": 54,
   "metadata": {},
   "outputs": [],
   "source": [
    "import matplotlib.pyplot as plt"
   ]
  },
  {
   "cell_type": "code",
   "execution_count": 55,
   "metadata": {},
   "outputs": [
    {
     "data": {
      "image/png": "[encoded data removed]",
      "text/plain": [
       "<Figure size 432x288 with 1 Axes>"
      ]
     },
     "metadata": {
      "needs_background": "light"
     },
     "output_type": "display_data"
    }
   ],
   "source": [
    "plt.bar(finishedcount.keys(), finishedcount.values())\n",
    "plt.show()"
   ]
  },
  {
   "cell_type": "code",
   "execution_count": 80,
   "metadata": {},
   "outputs": [
    {
     "data": {
      "text/plain": [
       "[{'userId': 10,\n",
       "  'id': 198,\n",
       "  'title': 'quis eius est sint explicabo',\n",
       "  'completed': True},\n",
       " {'userId': 10,\n",
       "  'id': 199,\n",
       "  'title': 'numquam repellendus a magnam',\n",
       "  'completed': True},\n",
       " {'userId': 10,\n",
       "  'id': 200,\n",
       "  'title': 'ipsam aperiam voluptates qui',\n",
       "  'completed': False}]"
      ]
     },
     "execution_count": 80,
     "metadata": {},
     "output_type": "execute_result"
    }
   ],
   "source": [
    "todos[-3:]"
   ]
  },
  {
   "cell_type": "code",
   "execution_count": 81,
   "metadata": {},
   "outputs": [
    {
     "data": {
      "text/plain": [
       "[1, 2, 3, 4, 6, 6]"
      ]
     },
     "execution_count": 81,
     "metadata": {},
     "output_type": "execute_result"
    }
   ],
   "source": [
    "[1,2] + [3,4,6,6]"
   ]
  },
  {
   "cell_type": "code",
   "execution_count": 84,
   "metadata": {},
   "outputs": [
    {
     "data": {
      "text/plain": [
       "[{'myname': 'Valdis'},\n",
       " {'completed': True},\n",
       " {'completed': True},\n",
       " {'completed': True},\n",
       " {'completed': True}]"
      ]
     },
     "execution_count": 84,
     "metadata": {},
     "output_type": "execute_result"
    }
   ],
   "source": [
    "todos += [{'completed':True},{'completed':True},{'completed':True},{'completed':True}]\n",
    "todos[-5:]"
   ]
  },
  {
   "cell_type": "code",
   "execution_count": 85,
   "metadata": {},
   "outputs": [
    {
     "data": {
      "text/plain": [
       "[(5, 12),\n",
       " (10, 12),\n",
       " (1, 11),\n",
       " (8, 11),\n",
       " (7, 9),\n",
       " (2, 8),\n",
       " (9, 8),\n",
       " (3, 7),\n",
       " (4, 6),\n",
       " (6, 6),\n",
       " (None, 4)]"
      ]
     },
     "execution_count": 85,
     "metadata": {},
     "output_type": "execute_result"
    }
   ],
   "source": [
    "# lets do everything at once\n",
    "finishedcount = Counter([el.get('userId') for el in todos if el.get('completed') == True])\n",
    "finishedcount.most_common()"
   ]
  },
  {
   "cell_type": "code",
   "execution_count": 56,
   "metadata": {},
   "outputs": [],
   "source": [
    "myl = [('Valdis', 40), ('Alice',35), ('Bob', 23),('Carol',70)]"
   ]
  },
  {
   "cell_type": "code",
   "execution_count": null,
   "metadata": {},
   "outputs": [],
   "source": [
    "# Lambda = anonymous function"
   ]
  },
  {
   "cell_type": "code",
   "execution_count": null,
   "metadata": {},
   "outputs": [],
   "source": [
    "def myfun(el):\n",
    "    return el[1]\n",
    "# same as myfun = lambda el: el[1]"
   ]
  },
  {
   "cell_type": "code",
   "execution_count": null,
   "metadata": {},
   "outputs": [],
   "source": [
    "sorted(myl, key = lambda el: el[1], reverse=True)"
   ]
  },
  {
   "cell_type": "code",
   "execution_count": null,
   "metadata": {},
   "outputs": [],
   "source": [
    "# Exercise find out top 3 users with most tasks completed!\n",
    "\n",
    "# TIPS\n",
    "# we need some sort of structure to store these user results before finding out top 3\n",
    "# at least two good data structure choices here :)\n",
    "# here the simplest might actually be the best if we consider userId values\n"
   ]
  },
  {
   "cell_type": "code",
   "execution_count": null,
   "metadata": {},
   "outputs": [],
   "source": [
    "todos[0]"
   ]
  },
  {
   "cell_type": "code",
   "execution_count": null,
   "metadata": {},
   "outputs": [],
   "source": [
    "todos[0]['userId']"
   ]
  },
  {
   "cell_type": "code",
   "execution_count": null,
   "metadata": {},
   "outputs": [],
   "source": [
    "todos[0]['completed']"
   ]
  },
  {
   "cell_type": "code",
   "execution_count": null,
   "metadata": {},
   "outputs": [],
   "source": [
    "# Here we create a new dictionary and and count the completed works by id\n",
    "newdict = {}\n",
    "for todo in todos:\n",
    "    if todo['completed'] == True:\n",
    "        if todo['userId'] in newdict:\n",
    "            newdict[todo['userId']] += 1\n",
    "        else:\n",
    "            newdict[todo['userId']] = 1"
   ]
  },
  {
   "cell_type": "code",
   "execution_count": null,
   "metadata": {},
   "outputs": [],
   "source": [
    "newdict"
   ]
  },
  {
   "cell_type": "code",
   "execution_count": null,
   "metadata": {},
   "outputs": [],
   "source": [
    "sorted(newdict.items())"
   ]
  },
  {
   "cell_type": "code",
   "execution_count": null,
   "metadata": {},
   "outputs": [],
   "source": [
    "bestworkers = sorted(newdict.items(), key=lambda el: el[1], reverse=True)\n",
    "bestworkers[:3]"
   ]
  },
  {
   "cell_type": "code",
   "execution_count": null,
   "metadata": {},
   "outputs": [],
   "source": [
    "users = [ el['userId'] for el in todos]\n",
    "len(users),users[:15]"
   ]
  },
  {
   "cell_type": "code",
   "execution_count": null,
   "metadata": {},
   "outputs": [],
   "source": [
    "uniqusers = set(users)\n",
    "uniqusers"
   ]
  },
  {
   "cell_type": "code",
   "execution_count": null,
   "metadata": {},
   "outputs": [],
   "source": [
    "# dictionary comprehension but could live without one\n",
    "users = { el['userId'] : 0 for el in todos} "
   ]
  },
  {
   "cell_type": "code",
   "execution_count": null,
   "metadata": {},
   "outputs": [],
   "source": [
    "users"
   ]
  },
  {
   "cell_type": "code",
   "execution_count": null,
   "metadata": {},
   "outputs": [],
   "source": [
    "users.keys()"
   ]
  },
  {
   "cell_type": "code",
   "execution_count": null,
   "metadata": {},
   "outputs": [],
   "source": [
    "users.value"
   ]
  },
  {
   "cell_type": "code",
   "execution_count": null,
   "metadata": {},
   "outputs": [],
   "source": [
    "#{'completed': True,\n",
    "# 'id': 8,\n",
    "#  'title': 'quo adipisci enim quam ut ab',\n",
    "#  'userId': 1}"
   ]
  },
  {
   "cell_type": "code",
   "execution_count": null,
   "metadata": {},
   "outputs": [],
   "source": []
  },
  {
   "cell_type": "code",
   "execution_count": null,
   "metadata": {},
   "outputs": [],
   "source": [
    "#idiomatic\n",
    "for el in todos:\n",
    "    users[el['userId']] += el['completed'] # Boolean False is 0 True is 1 obviously this might not be too readable"
   ]
  },
  {
   "cell_type": "code",
   "execution_count": null,
   "metadata": {},
   "outputs": [],
   "source": [
    "# same as above could be useful in more complicated cases\n",
    "for el in todos:\n",
    "    if el['completed'] == True:\n",
    "        users[el['userId']] += 1"
   ]
  },
  {
   "cell_type": "code",
   "execution_count": null,
   "metadata": {},
   "outputs": [],
   "source": [
    "# there could be a one liner or a solution with from collections import Counter"
   ]
  },
  {
   "cell_type": "code",
   "execution_count": null,
   "metadata": {},
   "outputs": [],
   "source": [
    "users.items()"
   ]
  },
  {
   "cell_type": "code",
   "execution_count": null,
   "metadata": {},
   "outputs": [],
   "source": [
    "list(users.items())"
   ]
  },
  {
   "cell_type": "code",
   "execution_count": null,
   "metadata": {},
   "outputs": [],
   "source": [
    "userlist=list(users.items())"
   ]
  },
  {
   "cell_type": "code",
   "execution_count": null,
   "metadata": {},
   "outputs": [],
   "source": [
    "type(userlist[0])"
   ]
  },
  {
   "cell_type": "code",
   "execution_count": null,
   "metadata": {},
   "outputs": [],
   "source": [
    "# we pass a key anonymous(lambda) function\n",
    "sorted(userlist, key=lambda el: el[1], reverse=True)[:3]"
   ]
  },
  {
   "cell_type": "code",
   "execution_count": null,
   "metadata": {},
   "outputs": [],
   "source": [
    "# lets try a simple way"
   ]
  },
  {
   "cell_type": "code",
   "execution_count": null,
   "metadata": {},
   "outputs": [],
   "source": [
    "mylist=[0]\n",
    "mylist*=11"
   ]
  },
  {
   "cell_type": "code",
   "execution_count": null,
   "metadata": {},
   "outputs": [],
   "source": [
    "for el in todos:\n",
    "    if el['completed'] == True:\n",
    "        mylist[el['userId']] +=1"
   ]
  },
  {
   "cell_type": "code",
   "execution_count": null,
   "metadata": {},
   "outputs": [],
   "source": [
    "mylist"
   ]
  },
  {
   "cell_type": "code",
   "execution_count": null,
   "metadata": {},
   "outputs": [],
   "source": [
    "mylist.index(max(mylist))"
   ]
  },
  {
   "cell_type": "code",
   "execution_count": null,
   "metadata": {},
   "outputs": [],
   "source": [
    "# kind of hard to get more values need to get tricky"
   ]
  },
  {
   "cell_type": "markdown",
   "metadata": {},
   "source": [
    "# How about Pandas and Json ?"
   ]
  },
  {
   "cell_type": "code",
   "execution_count": 34,
   "metadata": {},
   "outputs": [],
   "source": [
    "import pandas as pd"
   ]
  },
  {
   "cell_type": "code",
   "execution_count": 56,
   "metadata": {},
   "outputs": [],
   "source": [
    "df = pd.read_json('https://jsonplaceholder.typicode.com/todos')"
   ]
  },
  {
   "cell_type": "code",
   "execution_count": 57,
   "metadata": {},
   "outputs": [
    {
     "data": {
      "text/html": [
       "<div>\n",
       "<style scoped>\n",
       "    .dataframe tbody tr th:only-of-type {\n",
       "        vertical-align: middle;\n",
       "    }\n",
       "\n",
       "    .dataframe tbody tr th {\n",
       "        vertical-align: top;\n",
       "    }\n",
       "\n",
       "    .dataframe thead th {\n",
       "        text-align: right;\n",
       "    }\n",
       "</style>\n",
       "<table border=\"1\" class=\"dataframe\">\n",
       "  <thead>\n",
       "    <tr style=\"text-align: right;\">\n",
       "      <th></th>\n",
       "      <th>userId</th>\n",
       "      <th>id</th>\n",
       "      <th>title</th>\n",
       "      <th>completed</th>\n",
       "    </tr>\n",
       "  </thead>\n",
       "  <tbody>\n",
       "    <tr>\n",
       "      <th>0</th>\n",
       "      <td>1</td>\n",
       "      <td>1</td>\n",
       "      <td>delectus aut autem</td>\n",
       "      <td>False</td>\n",
       "    </tr>\n",
       "    <tr>\n",
       "      <th>1</th>\n",
       "      <td>1</td>\n",
       "      <td>2</td>\n",
       "      <td>quis ut nam facilis et officia qui</td>\n",
       "      <td>False</td>\n",
       "    </tr>\n",
       "    <tr>\n",
       "      <th>2</th>\n",
       "      <td>1</td>\n",
       "      <td>3</td>\n",
       "      <td>fugiat veniam minus</td>\n",
       "      <td>False</td>\n",
       "    </tr>\n",
       "    <tr>\n",
       "      <th>3</th>\n",
       "      <td>1</td>\n",
       "      <td>4</td>\n",
       "      <td>et porro tempora</td>\n",
       "      <td>True</td>\n",
       "    </tr>\n",
       "    <tr>\n",
       "      <th>4</th>\n",
       "      <td>1</td>\n",
       "      <td>5</td>\n",
       "      <td>laboriosam mollitia et enim quasi adipisci qui...</td>\n",
       "      <td>False</td>\n",
       "    </tr>\n",
       "  </tbody>\n",
       "</table>\n",
       "</div>"
      ],
      "text/plain": [
       "   userId  id                                              title  completed\n",
       "0       1   1                                 delectus aut autem      False\n",
       "1       1   2                 quis ut nam facilis et officia qui      False\n",
       "2       1   3                                fugiat veniam minus      False\n",
       "3       1   4                                   et porro tempora       True\n",
       "4       1   5  laboriosam mollitia et enim quasi adipisci qui...      False"
      ]
     },
     "execution_count": 57,
     "metadata": {},
     "output_type": "execute_result"
    }
   ],
   "source": [
    "df.head()"
   ]
  },
  {
   "cell_type": "code",
   "execution_count": 58,
   "metadata": {},
   "outputs": [],
   "source": [
    "df.to_csv('my_todos.csv')"
   ]
  },
  {
   "cell_type": "code",
   "execution_count": 59,
   "metadata": {},
   "outputs": [
    {
     "data": {
      "text/plain": [
       "(200, 4)"
      ]
     },
     "execution_count": 59,
     "metadata": {},
     "output_type": "execute_result"
    }
   ],
   "source": [
    "df.shape"
   ]
  },
  {
   "cell_type": "code",
   "execution_count": 60,
   "metadata": {},
   "outputs": [
    {
     "data": {
      "text/html": [
       "<div>\n",
       "<style scoped>\n",
       "    .dataframe tbody tr th:only-of-type {\n",
       "        vertical-align: middle;\n",
       "    }\n",
       "\n",
       "    .dataframe tbody tr th {\n",
       "        vertical-align: top;\n",
       "    }\n",
       "\n",
       "    .dataframe thead th {\n",
       "        text-align: right;\n",
       "    }\n",
       "</style>\n",
       "<table border=\"1\" class=\"dataframe\">\n",
       "  <thead>\n",
       "    <tr style=\"text-align: right;\">\n",
       "      <th></th>\n",
       "      <th>userId</th>\n",
       "      <th>id</th>\n",
       "    </tr>\n",
       "  </thead>\n",
       "  <tbody>\n",
       "    <tr>\n",
       "      <th>count</th>\n",
       "      <td>200.000000</td>\n",
       "      <td>200.000000</td>\n",
       "    </tr>\n",
       "    <tr>\n",
       "      <th>mean</th>\n",
       "      <td>5.500000</td>\n",
       "      <td>100.500000</td>\n",
       "    </tr>\n",
       "    <tr>\n",
       "      <th>std</th>\n",
       "      <td>2.879489</td>\n",
       "      <td>57.879185</td>\n",
       "    </tr>\n",
       "    <tr>\n",
       "      <th>min</th>\n",
       "      <td>1.000000</td>\n",
       "      <td>1.000000</td>\n",
       "    </tr>\n",
       "    <tr>\n",
       "      <th>25%</th>\n",
       "      <td>3.000000</td>\n",
       "      <td>50.750000</td>\n",
       "    </tr>\n",
       "    <tr>\n",
       "      <th>50%</th>\n",
       "      <td>5.500000</td>\n",
       "      <td>100.500000</td>\n",
       "    </tr>\n",
       "    <tr>\n",
       "      <th>75%</th>\n",
       "      <td>8.000000</td>\n",
       "      <td>150.250000</td>\n",
       "    </tr>\n",
       "    <tr>\n",
       "      <th>max</th>\n",
       "      <td>10.000000</td>\n",
       "      <td>200.000000</td>\n",
       "    </tr>\n",
       "  </tbody>\n",
       "</table>\n",
       "</div>"
      ],
      "text/plain": [
       "           userId          id\n",
       "count  200.000000  200.000000\n",
       "mean     5.500000  100.500000\n",
       "std      2.879489   57.879185\n",
       "min      1.000000    1.000000\n",
       "25%      3.000000   50.750000\n",
       "50%      5.500000  100.500000\n",
       "75%      8.000000  150.250000\n",
       "max     10.000000  200.000000"
      ]
     },
     "execution_count": 60,
     "metadata": {},
     "output_type": "execute_result"
    }
   ],
   "source": [
    "df.describe()"
   ]
  },
  {
   "cell_type": "code",
   "execution_count": 61,
   "metadata": {},
   "outputs": [
    {
     "data": {
      "text/html": [
       "<div>\n",
       "<style scoped>\n",
       "    .dataframe tbody tr th:only-of-type {\n",
       "        vertical-align: middle;\n",
       "    }\n",
       "\n",
       "    .dataframe tbody tr th {\n",
       "        vertical-align: top;\n",
       "    }\n",
       "\n",
       "    .dataframe thead th {\n",
       "        text-align: right;\n",
       "    }\n",
       "</style>\n",
       "<table border=\"1\" class=\"dataframe\">\n",
       "  <thead>\n",
       "    <tr style=\"text-align: right;\">\n",
       "      <th></th>\n",
       "      <th>title</th>\n",
       "    </tr>\n",
       "  </thead>\n",
       "  <tbody>\n",
       "    <tr>\n",
       "      <th>count</th>\n",
       "      <td>200</td>\n",
       "    </tr>\n",
       "    <tr>\n",
       "      <th>unique</th>\n",
       "      <td>200</td>\n",
       "    </tr>\n",
       "    <tr>\n",
       "      <th>top</th>\n",
       "      <td>occaecati adipisci est possimus totam</td>\n",
       "    </tr>\n",
       "    <tr>\n",
       "      <th>freq</th>\n",
       "      <td>1</td>\n",
       "    </tr>\n",
       "  </tbody>\n",
       "</table>\n",
       "</div>"
      ],
      "text/plain": [
       "                                        title\n",
       "count                                     200\n",
       "unique                                    200\n",
       "top     occaecati adipisci est possimus totam\n",
       "freq                                        1"
      ]
     },
     "execution_count": 61,
     "metadata": {},
     "output_type": "execute_result"
    }
   ],
   "source": [
    "df.describe(include=['O'])"
   ]
  },
  {
   "cell_type": "code",
   "execution_count": 62,
   "metadata": {},
   "outputs": [
    {
     "data": {
      "text/html": [
       "<div>\n",
       "<style scoped>\n",
       "    .dataframe tbody tr th:only-of-type {\n",
       "        vertical-align: middle;\n",
       "    }\n",
       "\n",
       "    .dataframe tbody tr th {\n",
       "        vertical-align: top;\n",
       "    }\n",
       "\n",
       "    .dataframe thead th {\n",
       "        text-align: right;\n",
       "    }\n",
       "</style>\n",
       "<table border=\"1\" class=\"dataframe\">\n",
       "  <thead>\n",
       "    <tr style=\"text-align: right;\">\n",
       "      <th></th>\n",
       "      <th>id</th>\n",
       "      <th>completed</th>\n",
       "    </tr>\n",
       "    <tr>\n",
       "      <th>userId</th>\n",
       "      <th></th>\n",
       "      <th></th>\n",
       "    </tr>\n",
       "  </thead>\n",
       "  <tbody>\n",
       "    <tr>\n",
       "      <th>1</th>\n",
       "      <td>210</td>\n",
       "      <td>11.0</td>\n",
       "    </tr>\n",
       "    <tr>\n",
       "      <th>2</th>\n",
       "      <td>610</td>\n",
       "      <td>8.0</td>\n",
       "    </tr>\n",
       "    <tr>\n",
       "      <th>3</th>\n",
       "      <td>1010</td>\n",
       "      <td>7.0</td>\n",
       "    </tr>\n",
       "    <tr>\n",
       "      <th>4</th>\n",
       "      <td>1410</td>\n",
       "      <td>6.0</td>\n",
       "    </tr>\n",
       "    <tr>\n",
       "      <th>5</th>\n",
       "      <td>1810</td>\n",
       "      <td>12.0</td>\n",
       "    </tr>\n",
       "    <tr>\n",
       "      <th>6</th>\n",
       "      <td>2210</td>\n",
       "      <td>6.0</td>\n",
       "    </tr>\n",
       "    <tr>\n",
       "      <th>7</th>\n",
       "      <td>2610</td>\n",
       "      <td>9.0</td>\n",
       "    </tr>\n",
       "    <tr>\n",
       "      <th>8</th>\n",
       "      <td>3010</td>\n",
       "      <td>11.0</td>\n",
       "    </tr>\n",
       "    <tr>\n",
       "      <th>9</th>\n",
       "      <td>3410</td>\n",
       "      <td>8.0</td>\n",
       "    </tr>\n",
       "    <tr>\n",
       "      <th>10</th>\n",
       "      <td>3810</td>\n",
       "      <td>12.0</td>\n",
       "    </tr>\n",
       "  </tbody>\n",
       "</table>\n",
       "</div>"
      ],
      "text/plain": [
       "          id  completed\n",
       "userId                 \n",
       "1        210       11.0\n",
       "2        610        8.0\n",
       "3       1010        7.0\n",
       "4       1410        6.0\n",
       "5       1810       12.0\n",
       "6       2210        6.0\n",
       "7       2610        9.0\n",
       "8       3010       11.0\n",
       "9       3410        8.0\n",
       "10      3810       12.0"
      ]
     },
     "execution_count": 62,
     "metadata": {},
     "output_type": "execute_result"
    }
   ],
   "source": [
    "# we see that completed\n",
    "df.groupby(['userId']).sum()"
   ]
  },
  {
   "cell_type": "code",
   "execution_count": 63,
   "metadata": {},
   "outputs": [
    {
     "data": {
      "text/plain": [
       "<matplotlib.axes._subplots.AxesSubplot at 0x16b6dd6a0d0>"
      ]
     },
     "execution_count": 63,
     "metadata": {},
     "output_type": "execute_result"
    },
    {
     "data": {
      "image/png": "[encoded data removed]",
      "text/plain": [
       "<Figure size 432x288 with 1 Axes>"
      ]
     },
     "metadata": {
      "needs_background": "light"
     },
     "output_type": "display_data"
    }
   ],
   "source": [
    "df.groupby(['userId']).sum()['completed'].plot(kind=\"bar\")"
   ]
  },
  {
   "cell_type": "code",
   "execution_count": 52,
   "metadata": {},
   "outputs": [
    {
     "data": {
      "text/plain": [
       "'{\"10\":12.0,\"5\":12.0,\"8\":11.0,\"1\":11.0,\"7\":9.0,\"9\":8.0,\"2\":8.0,\"3\":7.0,\"6\":6.0,\"4\":6.0}'"
      ]
     },
     "execution_count": 52,
     "metadata": {},
     "output_type": "execute_result"
    }
   ],
   "source": [
    "busyjson"
   ]
  },
  {
   "cell_type": "code",
   "execution_count": 48,
   "metadata": {},
   "outputs": [
    {
     "data": {
      "text/plain": [
       "userId\n",
       "1     11.0\n",
       "2      8.0\n",
       "3      7.0\n",
       "4      6.0\n",
       "5     12.0\n",
       "6      6.0\n",
       "7      9.0\n",
       "8     11.0\n",
       "9      8.0\n",
       "10    12.0\n",
       "Name: completed, dtype: float64"
      ]
     },
     "execution_count": 48,
     "metadata": {},
     "output_type": "execute_result"
    }
   ],
   "source": [
    "df.groupby(['userId'])['completed'].sum()"
   ]
  },
  {
   "cell_type": "code",
   "execution_count": 98,
   "metadata": {},
   "outputs": [
    {
     "data": {
      "text/html": [
       "<div>\n",
       "<style scoped>\n",
       "    .dataframe tbody tr th:only-of-type {\n",
       "        vertical-align: middle;\n",
       "    }\n",
       "\n",
       "    .dataframe tbody tr th {\n",
       "        vertical-align: top;\n",
       "    }\n",
       "\n",
       "    .dataframe thead th {\n",
       "        text-align: right;\n",
       "    }\n",
       "</style>\n",
       "<table border=\"1\" class=\"dataframe\">\n",
       "  <thead>\n",
       "    <tr style=\"text-align: right;\">\n",
       "      <th></th>\n",
       "      <th>completed</th>\n",
       "    </tr>\n",
       "    <tr>\n",
       "      <th>userId</th>\n",
       "      <th></th>\n",
       "    </tr>\n",
       "  </thead>\n",
       "  <tbody>\n",
       "    <tr>\n",
       "      <th>1</th>\n",
       "      <td>11.0</td>\n",
       "    </tr>\n",
       "    <tr>\n",
       "      <th>2</th>\n",
       "      <td>8.0</td>\n",
       "    </tr>\n",
       "    <tr>\n",
       "      <th>3</th>\n",
       "      <td>7.0</td>\n",
       "    </tr>\n",
       "    <tr>\n",
       "      <th>4</th>\n",
       "      <td>6.0</td>\n",
       "    </tr>\n",
       "    <tr>\n",
       "      <th>5</th>\n",
       "      <td>12.0</td>\n",
       "    </tr>\n",
       "    <tr>\n",
       "      <th>6</th>\n",
       "      <td>6.0</td>\n",
       "    </tr>\n",
       "    <tr>\n",
       "      <th>7</th>\n",
       "      <td>9.0</td>\n",
       "    </tr>\n",
       "    <tr>\n",
       "      <th>8</th>\n",
       "      <td>11.0</td>\n",
       "    </tr>\n",
       "    <tr>\n",
       "      <th>9</th>\n",
       "      <td>8.0</td>\n",
       "    </tr>\n",
       "    <tr>\n",
       "      <th>10</th>\n",
       "      <td>12.0</td>\n",
       "    </tr>\n",
       "  </tbody>\n",
       "</table>\n",
       "</div>"
      ],
      "text/plain": [
       "        completed\n",
       "userId           \n",
       "1            11.0\n",
       "2             8.0\n",
       "3             7.0\n",
       "4             6.0\n",
       "5            12.0\n",
       "6             6.0\n",
       "7             9.0\n",
       "8            11.0\n",
       "9             8.0\n",
       "10           12.0"
      ]
     },
     "execution_count": 98,
     "metadata": {},
     "output_type": "execute_result"
    }
   ],
   "source": [
    "# if we need a single column dataframe\n",
    "df.groupby(['userId'])[['completed']].sum()"
   ]
  },
  {
   "cell_type": "code",
   "execution_count": 49,
   "metadata": {},
   "outputs": [
    {
     "data": {
      "text/plain": [
       "userId\n",
       "4      6.0\n",
       "6      6.0\n",
       "3      7.0\n",
       "2      8.0\n",
       "9      8.0\n",
       "7      9.0\n",
       "1     11.0\n",
       "8     11.0\n",
       "5     12.0\n",
       "10    12.0\n",
       "Name: completed, dtype: float64"
      ]
     },
     "execution_count": 49,
     "metadata": {},
     "output_type": "execute_result"
    }
   ],
   "source": [
    "df.groupby(['userId'])['completed'].sum().sort_values()"
   ]
  },
  {
   "cell_type": "code",
   "execution_count": 50,
   "metadata": {},
   "outputs": [
    {
     "data": {
      "text/plain": [
       "userId\n",
       "10    12.0\n",
       "5     12.0\n",
       "8     11.0\n",
       "1     11.0\n",
       "7      9.0\n",
       "9      8.0\n",
       "2      8.0\n",
       "3      7.0\n",
       "6      6.0\n",
       "4      6.0\n",
       "Name: completed, dtype: float64"
      ]
     },
     "execution_count": 50,
     "metadata": {},
     "output_type": "execute_result"
    }
   ],
   "source": [
    "df.groupby(['userId'])['completed'].sum().sort_values(ascending=False)"
   ]
  },
  {
   "cell_type": "code",
   "execution_count": 51,
   "metadata": {},
   "outputs": [],
   "source": [
    "busyjson = pd.read_json('https://jsonplaceholder.typicode.com/todos').groupby(['userId'])['completed'].sum().sort_values(ascending=False).to_json()"
   ]
  },
  {
   "cell_type": "code",
   "execution_count": 109,
   "metadata": {},
   "outputs": [],
   "source": [
    "def prettyJSON(myjson):\n",
    "    return json.dumps(json.loads(myjson), indent=4)"
   ]
  },
  {
   "cell_type": "code",
   "execution_count": 110,
   "metadata": {},
   "outputs": [
    {
     "data": {
      "text/plain": [
       "str"
      ]
     },
     "execution_count": 110,
     "metadata": {},
     "output_type": "execute_result"
    }
   ],
   "source": [
    "type(busyjson)"
   ]
  },
  {
   "cell_type": "code",
   "execution_count": 111,
   "metadata": {},
   "outputs": [],
   "source": [
    "prettybusy = prettyJSON(busyjson)"
   ]
  },
  {
   "cell_type": "code",
   "execution_count": 113,
   "metadata": {},
   "outputs": [],
   "source": [
    "with open('prettybusy.json', mode='w') as f:\n",
    "    f.write(prettybusy)"
   ]
  },
  {
   "cell_type": "markdown",
   "metadata": {},
   "source": [
    "# Exercise Find Public JSON API get data and convert it into Pandas DataFrame\n",
    "\n",
    "## Many possible sources\n",
    "\n",
    "https://github.com/toddmotto/public-apis\n",
    "    \n",
    "### You want the ones without authorization and WITH CORS unless you are feeling adventurous and want to try with auth\n",
    "\n"
   ]
  },
  {
   "cell_type": "code",
   "execution_count": 53,
   "metadata": {},
   "outputs": [
    {
     "data": {
      "text/html": [
       "<div>\n",
       "<style scoped>\n",
       "    .dataframe tbody tr th:only-of-type {\n",
       "        vertical-align: middle;\n",
       "    }\n",
       "\n",
       "    .dataframe tbody tr th {\n",
       "        vertical-align: top;\n",
       "    }\n",
       "\n",
       "    .dataframe thead th {\n",
       "        text-align: right;\n",
       "    }\n",
       "</style>\n",
       "<table border=\"1\" class=\"dataframe\">\n",
       "  <thead>\n",
       "    <tr style=\"text-align: right;\">\n",
       "      <th></th>\n",
       "      <th>__v</th>\n",
       "      <th>_id</th>\n",
       "      <th>createdAt</th>\n",
       "      <th>deleted</th>\n",
       "      <th>source</th>\n",
       "      <th>status</th>\n",
       "      <th>text</th>\n",
       "      <th>type</th>\n",
       "      <th>updatedAt</th>\n",
       "      <th>used</th>\n",
       "      <th>user</th>\n",
       "    </tr>\n",
       "  </thead>\n",
       "  <tbody>\n",
       "    <tr>\n",
       "      <th>0</th>\n",
       "      <td>0</td>\n",
       "      <td>591f98783b90f7150a19c1ab</td>\n",
       "      <td>2018-01-04T01:10:54.673Z</td>\n",
       "      <td>False</td>\n",
       "      <td>api</td>\n",
       "      <td>{'verified': True, 'sentCount': 1}</td>\n",
       "      <td>Cats and kittens should be acquired in pairs w...</td>\n",
       "      <td>cat</td>\n",
       "      <td>2020-08-23T20:20:01.611Z</td>\n",
       "      <td>False</td>\n",
       "      <td>5a9ac18c7478810ea6c06381</td>\n",
       "    </tr>\n",
       "    <tr>\n",
       "      <th>1</th>\n",
       "      <td>0</td>\n",
       "      <td>5955792c7b77520020799431</td>\n",
       "      <td>2018-02-23T21:20:04.118Z</td>\n",
       "      <td>False</td>\n",
       "      <td>user</td>\n",
       "      <td>{'verified': True, 'sentCount': 1}</td>\n",
       "      <td>Cats \"knead\" because of seperation from their ...</td>\n",
       "      <td>cat</td>\n",
       "      <td>2020-08-23T20:20:01.611Z</td>\n",
       "      <td>False</td>\n",
       "      <td>595579027b77520020799430</td>\n",
       "    </tr>\n",
       "    <tr>\n",
       "      <th>2</th>\n",
       "      <td>0</td>\n",
       "      <td>5a038cdf8e3dbc001f719790</td>\n",
       "      <td>2018-02-01T21:20:02.808Z</td>\n",
       "      <td>False</td>\n",
       "      <td>user</td>\n",
       "      <td>{'verified': True, 'sentCount': 1}</td>\n",
       "      <td>The ability of a cat to reflexively twist its ...</td>\n",
       "      <td>cat</td>\n",
       "      <td>2020-08-23T20:20:01.611Z</td>\n",
       "      <td>False</td>\n",
       "      <td>5a9ac18c7478810ea6c06381</td>\n",
       "    </tr>\n",
       "    <tr>\n",
       "      <th>3</th>\n",
       "      <td>0</td>\n",
       "      <td>591f98783b90f7150a19c1da</td>\n",
       "      <td>2018-01-04T01:10:54.673Z</td>\n",
       "      <td>False</td>\n",
       "      <td>api</td>\n",
       "      <td>{'verified': True, 'sentCount': 1}</td>\n",
       "      <td>The cat appears to be the only domestic compan...</td>\n",
       "      <td>cat</td>\n",
       "      <td>2020-08-23T20:20:01.611Z</td>\n",
       "      <td>False</td>\n",
       "      <td>5a9ac18c7478810ea6c06381</td>\n",
       "    </tr>\n",
       "    <tr>\n",
       "      <th>4</th>\n",
       "      <td>0</td>\n",
       "      <td>591f98703b90f7150a19c15d</td>\n",
       "      <td>2018-01-04T01:10:54.673Z</td>\n",
       "      <td>False</td>\n",
       "      <td>api</td>\n",
       "      <td>{'verified': True, 'sentCount': 1}</td>\n",
       "      <td>Most cats killed on the road are un-neutered t...</td>\n",
       "      <td>cat</td>\n",
       "      <td>2020-08-23T20:20:01.611Z</td>\n",
       "      <td>False</td>\n",
       "      <td>5a9ac18c7478810ea6c06381</td>\n",
       "    </tr>\n",
       "  </tbody>\n",
       "</table>\n",
       "</div>"
      ],
      "text/plain": [
       "   __v                       _id                 createdAt  deleted source  \\\n",
       "0    0  591f98783b90f7150a19c1ab  2018-01-04T01:10:54.673Z    False    api   \n",
       "1    0  5955792c7b77520020799431  2018-02-23T21:20:04.118Z    False   user   \n",
       "2    0  5a038cdf8e3dbc001f719790  2018-02-01T21:20:02.808Z    False   user   \n",
       "3    0  591f98783b90f7150a19c1da  2018-01-04T01:10:54.673Z    False    api   \n",
       "4    0  591f98703b90f7150a19c15d  2018-01-04T01:10:54.673Z    False    api   \n",
       "\n",
       "                               status  \\\n",
       "0  {'verified': True, 'sentCount': 1}   \n",
       "1  {'verified': True, 'sentCount': 1}   \n",
       "2  {'verified': True, 'sentCount': 1}   \n",
       "3  {'verified': True, 'sentCount': 1}   \n",
       "4  {'verified': True, 'sentCount': 1}   \n",
       "\n",
       "                                                text type  \\\n",
       "0  Cats and kittens should be acquired in pairs w...  cat   \n",
       "1  Cats \"knead\" because of seperation from their ...  cat   \n",
       "2  The ability of a cat to reflexively twist its ...  cat   \n",
       "3  The cat appears to be the only domestic compan...  cat   \n",
       "4  Most cats killed on the road are un-neutered t...  cat   \n",
       "\n",
       "                  updatedAt   used                      user  \n",
       "0  2020-08-23T20:20:01.611Z  False  5a9ac18c7478810ea6c06381  \n",
       "1  2020-08-23T20:20:01.611Z  False  595579027b77520020799430  \n",
       "2  2020-08-23T20:20:01.611Z  False  5a9ac18c7478810ea6c06381  \n",
       "3  2020-08-23T20:20:01.611Z  False  5a9ac18c7478810ea6c06381  \n",
       "4  2020-08-23T20:20:01.611Z  False  5a9ac18c7478810ea6c06381  "
      ]
     },
     "execution_count": 53,
     "metadata": {},
     "output_type": "execute_result"
    }
   ],
   "source": [
    "df = pd.read_json('https://cat-fact.herokuapp.com/facts/random?animal_type=cat&amount=50')\n",
    "df.head()"
   ]
  },
  {
   "cell_type": "code",
   "execution_count": 54,
   "metadata": {},
   "outputs": [
    {
     "data": {
      "text/html": [
       "<div>\n",
       "<style scoped>\n",
       "    .dataframe tbody tr th:only-of-type {\n",
       "        vertical-align: middle;\n",
       "    }\n",
       "\n",
       "    .dataframe tbody tr th {\n",
       "        vertical-align: top;\n",
       "    }\n",
       "\n",
       "    .dataframe thead th {\n",
       "        text-align: right;\n",
       "    }\n",
       "</style>\n",
       "<table border=\"1\" class=\"dataframe\">\n",
       "  <thead>\n",
       "    <tr style=\"text-align: right;\">\n",
       "      <th></th>\n",
       "      <th>__v</th>\n",
       "      <th>_id</th>\n",
       "      <th>createdAt</th>\n",
       "      <th>deleted</th>\n",
       "      <th>source</th>\n",
       "      <th>status</th>\n",
       "      <th>text</th>\n",
       "      <th>type</th>\n",
       "      <th>updatedAt</th>\n",
       "      <th>used</th>\n",
       "      <th>user</th>\n",
       "    </tr>\n",
       "  </thead>\n",
       "  <tbody>\n",
       "    <tr>\n",
       "      <th>0</th>\n",
       "      <td>0</td>\n",
       "      <td>591f98783b90f7150a19c1ab</td>\n",
       "      <td>2018-01-04T01:10:54.673Z</td>\n",
       "      <td>False</td>\n",
       "      <td>api</td>\n",
       "      <td>{'verified': True, 'sentCount': 1}</td>\n",
       "      <td>Cats and kittens should be acquired in pairs w...</td>\n",
       "      <td>cat</td>\n",
       "      <td>2020-08-23T20:20:01.611Z</td>\n",
       "      <td>False</td>\n",
       "      <td>5a9ac18c7478810ea6c06381</td>\n",
       "    </tr>\n",
       "    <tr>\n",
       "      <th>1</th>\n",
       "      <td>0</td>\n",
       "      <td>5955792c7b77520020799431</td>\n",
       "      <td>2018-02-23T21:20:04.118Z</td>\n",
       "      <td>False</td>\n",
       "      <td>user</td>\n",
       "      <td>{'verified': True, 'sentCount': 1}</td>\n",
       "      <td>Cats \"knead\" because of seperation from their ...</td>\n",
       "      <td>cat</td>\n",
       "      <td>2020-08-23T20:20:01.611Z</td>\n",
       "      <td>False</td>\n",
       "      <td>595579027b77520020799430</td>\n",
       "    </tr>\n",
       "    <tr>\n",
       "      <th>2</th>\n",
       "      <td>0</td>\n",
       "      <td>5a038cdf8e3dbc001f719790</td>\n",
       "      <td>2018-02-01T21:20:02.808Z</td>\n",
       "      <td>False</td>\n",
       "      <td>user</td>\n",
       "      <td>{'verified': True, 'sentCount': 1}</td>\n",
       "      <td>The ability of a cat to reflexively twist its ...</td>\n",
       "      <td>cat</td>\n",
       "      <td>2020-08-23T20:20:01.611Z</td>\n",
       "      <td>False</td>\n",
       "      <td>5a9ac18c7478810ea6c06381</td>\n",
       "    </tr>\n",
       "    <tr>\n",
       "      <th>3</th>\n",
       "      <td>0</td>\n",
       "      <td>591f98783b90f7150a19c1da</td>\n",
       "      <td>2018-01-04T01:10:54.673Z</td>\n",
       "      <td>False</td>\n",
       "      <td>api</td>\n",
       "      <td>{'verified': True, 'sentCount': 1}</td>\n",
       "      <td>The cat appears to be the only domestic compan...</td>\n",
       "      <td>cat</td>\n",
       "      <td>2020-08-23T20:20:01.611Z</td>\n",
       "      <td>False</td>\n",
       "      <td>5a9ac18c7478810ea6c06381</td>\n",
       "    </tr>\n",
       "    <tr>\n",
       "      <th>4</th>\n",
       "      <td>0</td>\n",
       "      <td>591f98703b90f7150a19c15d</td>\n",
       "      <td>2018-01-04T01:10:54.673Z</td>\n",
       "      <td>False</td>\n",
       "      <td>api</td>\n",
       "      <td>{'verified': True, 'sentCount': 1}</td>\n",
       "      <td>Most cats killed on the road are un-neutered t...</td>\n",
       "      <td>cat</td>\n",
       "      <td>2020-08-23T20:20:01.611Z</td>\n",
       "      <td>False</td>\n",
       "      <td>5a9ac18c7478810ea6c06381</td>\n",
       "    </tr>\n",
       "  </tbody>\n",
       "</table>\n",
       "</div>"
      ],
      "text/plain": [
       "   __v                       _id                 createdAt  deleted source  \\\n",
       "0    0  591f98783b90f7150a19c1ab  2018-01-04T01:10:54.673Z    False    api   \n",
       "1    0  5955792c7b77520020799431  2018-02-23T21:20:04.118Z    False   user   \n",
       "2    0  5a038cdf8e3dbc001f719790  2018-02-01T21:20:02.808Z    False   user   \n",
       "3    0  591f98783b90f7150a19c1da  2018-01-04T01:10:54.673Z    False    api   \n",
       "4    0  591f98703b90f7150a19c15d  2018-01-04T01:10:54.673Z    False    api   \n",
       "\n",
       "                               status  \\\n",
       "0  {'verified': True, 'sentCount': 1}   \n",
       "1  {'verified': True, 'sentCount': 1}   \n",
       "2  {'verified': True, 'sentCount': 1}   \n",
       "3  {'verified': True, 'sentCount': 1}   \n",
       "4  {'verified': True, 'sentCount': 1}   \n",
       "\n",
       "                                                text type  \\\n",
       "0  Cats and kittens should be acquired in pairs w...  cat   \n",
       "1  Cats \"knead\" because of seperation from their ...  cat   \n",
       "2  The ability of a cat to reflexively twist its ...  cat   \n",
       "3  The cat appears to be the only domestic compan...  cat   \n",
       "4  Most cats killed on the road are un-neutered t...  cat   \n",
       "\n",
       "                  updatedAt   used                      user  \n",
       "0  2020-08-23T20:20:01.611Z  False  5a9ac18c7478810ea6c06381  \n",
       "1  2020-08-23T20:20:01.611Z  False  595579027b77520020799430  \n",
       "2  2020-08-23T20:20:01.611Z  False  5a9ac18c7478810ea6c06381  \n",
       "3  2020-08-23T20:20:01.611Z  False  5a9ac18c7478810ea6c06381  \n",
       "4  2020-08-23T20:20:01.611Z  False  5a9ac18c7478810ea6c06381  "
      ]
     },
     "execution_count": 54,
     "metadata": {},
     "output_type": "execute_result"
    }
   ],
   "source": [
    "df.columns = sorted(df.columns)\n",
    "df.head()"
   ]
  },
  {
   "cell_type": "code",
   "execution_count": 55,
   "metadata": {},
   "outputs": [
    {
     "name": "stdout",
     "output_type": "stream",
     "text": [
      "200\n"
     ]
    },
    {
     "data": {
      "text/plain": [
       "[{'used': False,\n",
       "  'source': 'api',\n",
       "  'type': 'cat',\n",
       "  'deleted': False,\n",
       "  '_id': '591f98783b90f7150a19c189',\n",
       "  '__v': 0,\n",
       "  'text': 'A cat has approximately 60 to 80 million olfactory cells (a human has between 5 and 20 million).',\n",
       "  'updatedAt': '2020-08-23T20:20:01.611Z',\n",
       "  'createdAt': '2018-01-04T01:10:54.673Z',\n",
       "  'status': {'verified': True, 'sentCount': 1},\n",
       "  'user': '5a9ac18c7478810ea6c06381'},\n",
       " {'used': False,\n",
       "  'source': 'api',\n",
       "  'type': 'cat',\n",
       "  'deleted': False,\n",
       "  '_id': '591f9858c5cbe314f7a7ad36',\n",
       "  '__v': 0,\n",
       "  'text': \"Cats respond better to women than to men, probably due to the fact that women's voices have a higher pitch.\",\n",
       "  'updatedAt': '2020-08-23T20:20:01.611Z',\n",
       "  'createdAt': '2018-05-18T20:20:03.088Z',\n",
       "  'status': {'verified': True, 'sentCount': 1},\n",
       "  'user': '5a9ac18c7478810ea6c06381'},\n",
       " {'used': False,\n",
       "  'source': 'user',\n",
       "  'type': 'cat',\n",
       "  'deleted': False,\n",
       "  '_id': '5a4d76916ef087002174c28b',\n",
       "  'updatedAt': '2020-08-23T20:20:01.611Z',\n",
       "  'createdAt': '2018-06-15T20:20:02.579Z',\n",
       "  'user': '5a9ac18c7478810ea6c06381',\n",
       "  'text': 'A cat’s nose pad is ridged with a unique pattern, just like the fingerprint of a human.',\n",
       "  '__v': 0,\n",
       "  'status': {'verified': True, 'sentCount': 1}}]"
      ]
     },
     "execution_count": 55,
     "metadata": {},
     "output_type": "execute_result"
    }
   ],
   "source": [
    "response = requests.get(\"https://cat-fact.herokuapp.com/facts/random?animal_type=cat&amount=50\")\n",
    "if response.status_code != 200:\n",
    "    print(\"Bad Response: \", response.status_code)\n",
    "print(response.status_code)\n",
    "cats = json.loads(response.text)\n",
    "cats[:3]"
   ]
  },
  {
   "cell_type": "code",
   "execution_count": 57,
   "metadata": {},
   "outputs": [
    {
     "name": "stdout",
     "output_type": "stream",
     "text": [
      "200\n"
     ]
    },
    {
     "data": {
      "text/plain": [
       "[{'used': False,\n",
       "  'source': 'user',\n",
       "  'type': 'cat',\n",
       "  'deleted': False,\n",
       "  '_id': '5c6097eee549020014533030',\n",
       "  'updatedAt': '2020-08-23T20:20:01.611Z',\n",
       "  'createdAt': '2019-02-10T21:30:22.033Z',\n",
       "  'user': '5a9ac18c7478810ea6c06381',\n",
       "  'text': 'Legend holds that the Chartreux once lived alongside the Carthusian monks of France.',\n",
       "  '__v': 0,\n",
       "  'status': {'verified': True, 'sentCount': 1}},\n",
       " {'used': False,\n",
       "  'source': 'user',\n",
       "  'type': 'cat',\n",
       "  'deleted': False,\n",
       "  '_id': '5c3552738e0b8d00148d45e6',\n",
       "  'updatedAt': '2020-08-23T20:20:01.611Z',\n",
       "  'createdAt': '2019-01-09T01:46:27.122Z',\n",
       "  'user': '5a9ac18c7478810ea6c06381',\n",
       "  'text': \"Cat's cannot see in total darkness, however their vision is much better than a human's in semidarkness because their retinas are much more sensitive to light.\",\n",
       "  '__v': 0,\n",
       "  'status': {'verified': True, 'sentCount': 1}},\n",
       " {'used': False,\n",
       "  'source': 'api',\n",
       "  'type': 'cat',\n",
       "  'deleted': False,\n",
       "  '_id': '591f9890d369931519ce3552',\n",
       "  '__v': 0,\n",
       "  'text': 'A steady diet of dog food may cause blindness in your cat - it lacks taurine.',\n",
       "  'updatedAt': '2020-08-23T20:20:01.611Z',\n",
       "  'createdAt': '2018-01-04T01:10:54.673Z',\n",
       "  'status': {'verified': True, 'sentCount': 1},\n",
       "  'user': '5a9ac18c7478810ea6c06381'}]"
      ]
     },
     "execution_count": 57,
     "metadata": {},
     "output_type": "execute_result"
    }
   ],
   "source": [
    "response = requests.get(\"https://cat-fact.herokuapp.com/facts/random\",\n",
    "                        params={\"animal_type\":\"cat\", \"amount\":20})\n",
    "if response.status_code != 200:\n",
    "    print(\"Bad Response: \", response.status_code)\n",
    "print(response.status_code)\n",
    "cats = json.loads(response.text) # simpler response.json() \n",
    "cats[:3]"
   ]
  },
  {
   "cell_type": "code",
   "execution_count": 58,
   "metadata": {},
   "outputs": [
    {
     "data": {
      "text/plain": [
       "20"
      ]
     },
     "execution_count": 58,
     "metadata": {},
     "output_type": "execute_result"
    }
   ],
   "source": [
    "len(cats)`"
   ]
  },
  {
   "cell_type": "code",
   "execution_count": 60,
   "metadata": {},
   "outputs": [
    {
     "data": {
      "text/plain": [
       "200"
      ]
     },
     "execution_count": 60,
     "metadata": {},
     "output_type": "execute_result"
    }
   ],
   "source": [
    "response.status_code"
   ]
  },
  {
   "cell_type": "code",
   "execution_count": 61,
   "metadata": {},
   "outputs": [
    {
     "data": {
      "text/plain": [
       "20"
      ]
     },
     "execution_count": 61,
     "metadata": {},
     "output_type": "execute_result"
    }
   ],
   "source": [
    "cats2 = response.json()\n",
    "len(cats2)"
   ]
  },
  {
   "cell_type": "code",
   "execution_count": 64,
   "metadata": {},
   "outputs": [
    {
     "data": {
      "text/plain": [
       "(True, False)"
      ]
     },
     "execution_count": 64,
     "metadata": {},
     "output_type": "execute_result"
    }
   ],
   "source": [
    "cats2 == cats, cats2 is cats \n",
    "#data are the same we just have two different copies of them"
   ]
  },
  {
   "cell_type": "code",
   "execution_count": null,
   "metadata": {},
   "outputs": [],
   "source": []
  },
  {
   "cell_type": "code",
   "execution_count": 115,
   "metadata": {},
   "outputs": [
    {
     "data": {
      "text/plain": [
       "'At 4 weeks, it is important to play with kittens so that they do not develope a fear of people.'"
      ]
     },
     "execution_count": 115,
     "metadata": {},
     "output_type": "execute_result"
    }
   ],
   "source": [
    "df.loc[0, 'text']"
   ]
  },
  {
   "cell_type": "code",
   "execution_count": null,
   "metadata": {},
   "outputs": [],
   "source": [
    "## For authorization you generally need some sort of token(key)\n",
    "# One example for zendesk API  https://develop.zendesk.com/hc/en-us/community/posts/360001652447-API-auth-in-python\n",
    "\n",
    "\n",
    "# For an API token, append '/token' to your username and use the token as the password:\n",
    "## This will not work for those without zendesk access token\n",
    "\n",
    "url = 'https://your_subdomain.zendesk.com/api/v2/users/123.json'\n",
    "r = requests.get(url, auth=('user@example.com/token', 'your_token'))\n",
    "# For an OAuth token, set an Authorization header:\n",
    "\n",
    "bearer_token = 'Bearer ' + access_token\n",
    "header = {'Authorization': bearer_token}\n",
    "url = 'https://your_subdomain.zendesk.com/api/v2/users/123.json'\n",
    "r = requests.get(url, headers=header)"
   ]
  },
  {
   "cell_type": "code",
   "execution_count": 66,
   "metadata": {},
   "outputs": [],
   "source": [
    "def myReadJSON(url):\n",
    "    response = requests.get(url)\n",
    "    if response.status_code != 200:\n",
    "        print(\"Bad Response: \", response.status_code)\n",
    "    print(\"Status CODE\", response.status_code)\n",
    "    return json.loads(response.text)\n"
   ]
  },
  {
   "cell_type": "code",
   "execution_count": 67,
   "metadata": {},
   "outputs": [
    {
     "name": "stdout",
     "output_type": "stream",
     "text": [
      "Status CODE 200\n"
     ]
    },
    {
     "data": {
      "text/plain": [
       "dict"
      ]
     },
     "execution_count": 67,
     "metadata": {},
     "output_type": "execute_result"
    }
   ],
   "source": [
    "rawdrinks = myReadJSON(\"https://www.thecocktaildb.com/api/json/v1/1/search.php?s=margarita\")\n",
    "type(rawdrinks)"
   ]
  },
  {
   "cell_type": "code",
   "execution_count": 68,
   "metadata": {},
   "outputs": [
    {
     "data": {
      "text/plain": [
       "dict_keys(['drinks'])"
      ]
     },
     "execution_count": 68,
     "metadata": {},
     "output_type": "execute_result"
    }
   ],
   "source": [
    "rawdrinks.keys()"
   ]
  },
  {
   "cell_type": "code",
   "execution_count": 69,
   "metadata": {},
   "outputs": [
    {
     "data": {
      "text/html": [
       "<div>\n",
       "<style scoped>\n",
       "    .dataframe tbody tr th:only-of-type {\n",
       "        vertical-align: middle;\n",
       "    }\n",
       "\n",
       "    .dataframe tbody tr th {\n",
       "        vertical-align: top;\n",
       "    }\n",
       "\n",
       "    .dataframe thead th {\n",
       "        text-align: right;\n",
       "    }\n",
       "</style>\n",
       "<table border=\"1\" class=\"dataframe\">\n",
       "  <thead>\n",
       "    <tr style=\"text-align: right;\">\n",
       "      <th></th>\n",
       "      <th>dateModified</th>\n",
       "      <th>idDrink</th>\n",
       "      <th>strAlcoholic</th>\n",
       "      <th>strCategory</th>\n",
       "      <th>strCreativeCommonsConfirmed</th>\n",
       "      <th>strDrink</th>\n",
       "      <th>strDrinkAlternate</th>\n",
       "      <th>strDrinkDE</th>\n",
       "      <th>strDrinkES</th>\n",
       "      <th>strDrinkFR</th>\n",
       "      <th>...</th>\n",
       "      <th>strMeasure2</th>\n",
       "      <th>strMeasure3</th>\n",
       "      <th>strMeasure4</th>\n",
       "      <th>strMeasure5</th>\n",
       "      <th>strMeasure6</th>\n",
       "      <th>strMeasure7</th>\n",
       "      <th>strMeasure8</th>\n",
       "      <th>strMeasure9</th>\n",
       "      <th>strTags</th>\n",
       "      <th>strVideo</th>\n",
       "    </tr>\n",
       "  </thead>\n",
       "  <tbody>\n",
       "    <tr>\n",
       "      <th>0</th>\n",
       "      <td>2015-08-18 14:42:59</td>\n",
       "      <td>11007</td>\n",
       "      <td>Alcoholic</td>\n",
       "      <td>Ordinary Drink</td>\n",
       "      <td>Yes</td>\n",
       "      <td>Margarita</td>\n",
       "      <td>None</td>\n",
       "      <td>None</td>\n",
       "      <td>None</td>\n",
       "      <td>None</td>\n",
       "      <td>...</td>\n",
       "      <td>1/2 oz</td>\n",
       "      <td>1 oz</td>\n",
       "      <td>None</td>\n",
       "      <td>None</td>\n",
       "      <td>None</td>\n",
       "      <td>None</td>\n",
       "      <td>None</td>\n",
       "      <td>None</td>\n",
       "      <td>IBA,ContemporaryClassic</td>\n",
       "      <td>None</td>\n",
       "    </tr>\n",
       "    <tr>\n",
       "      <th>1</th>\n",
       "      <td>2015-08-18 14:51:53</td>\n",
       "      <td>11118</td>\n",
       "      <td>Alcoholic</td>\n",
       "      <td>Ordinary Drink</td>\n",
       "      <td>Yes</td>\n",
       "      <td>Blue Margarita</td>\n",
       "      <td>None</td>\n",
       "      <td>None</td>\n",
       "      <td>None</td>\n",
       "      <td>None</td>\n",
       "      <td>...</td>\n",
       "      <td>1 oz</td>\n",
       "      <td>1 oz</td>\n",
       "      <td>Coarse</td>\n",
       "      <td>None</td>\n",
       "      <td>None</td>\n",
       "      <td>None</td>\n",
       "      <td>None</td>\n",
       "      <td>None</td>\n",
       "      <td>None</td>\n",
       "      <td>None</td>\n",
       "    </tr>\n",
       "    <tr>\n",
       "      <th>2</th>\n",
       "      <td>2017-09-02 18:37:54</td>\n",
       "      <td>17216</td>\n",
       "      <td>Alcoholic</td>\n",
       "      <td>Ordinary Drink</td>\n",
       "      <td>No</td>\n",
       "      <td>Tommy's Margarita</td>\n",
       "      <td>None</td>\n",
       "      <td>None</td>\n",
       "      <td>None</td>\n",
       "      <td>None</td>\n",
       "      <td>...</td>\n",
       "      <td>1.5 cl</td>\n",
       "      <td>2 spoons</td>\n",
       "      <td>None</td>\n",
       "      <td>None</td>\n",
       "      <td>None</td>\n",
       "      <td>None</td>\n",
       "      <td>None</td>\n",
       "      <td>None</td>\n",
       "      <td>IBA,NewEra</td>\n",
       "      <td>None</td>\n",
       "    </tr>\n",
       "    <tr>\n",
       "      <th>3</th>\n",
       "      <td>2015-09-02 17:00:22</td>\n",
       "      <td>16158</td>\n",
       "      <td>Alcoholic</td>\n",
       "      <td>Other/Unknown</td>\n",
       "      <td>No</td>\n",
       "      <td>Whitecap Margarita</td>\n",
       "      <td>None</td>\n",
       "      <td>None</td>\n",
       "      <td>None</td>\n",
       "      <td>None</td>\n",
       "      <td>...</td>\n",
       "      <td>2 oz</td>\n",
       "      <td>1/4 cup</td>\n",
       "      <td>3 tblsp fresh</td>\n",
       "      <td>None</td>\n",
       "      <td>None</td>\n",
       "      <td>None</td>\n",
       "      <td>None</td>\n",
       "      <td>None</td>\n",
       "      <td>None</td>\n",
       "      <td>None</td>\n",
       "    </tr>\n",
       "    <tr>\n",
       "      <th>4</th>\n",
       "      <td>2015-08-18 14:41:51</td>\n",
       "      <td>12322</td>\n",
       "      <td>Alcoholic</td>\n",
       "      <td>Ordinary Drink</td>\n",
       "      <td>No</td>\n",
       "      <td>Strawberry Margarita</td>\n",
       "      <td>None</td>\n",
       "      <td>None</td>\n",
       "      <td>None</td>\n",
       "      <td>None</td>\n",
       "      <td>...</td>\n",
       "      <td>1 oz</td>\n",
       "      <td>1/2 oz</td>\n",
       "      <td>1 oz</td>\n",
       "      <td>1 oz</td>\n",
       "      <td>None</td>\n",
       "      <td>None</td>\n",
       "      <td>None</td>\n",
       "      <td>None</td>\n",
       "      <td>None</td>\n",
       "      <td>None</td>\n",
       "    </tr>\n",
       "  </tbody>\n",
       "</table>\n",
       "<p>5 rows × 53 columns</p>\n",
       "</div>"
      ],
      "text/plain": [
       "          dateModified idDrink strAlcoholic     strCategory  \\\n",
       "0  2015-08-18 14:42:59   11007    Alcoholic  Ordinary Drink   \n",
       "1  2015-08-18 14:51:53   11118    Alcoholic  Ordinary Drink   \n",
       "2  2017-09-02 18:37:54   17216    Alcoholic  Ordinary Drink   \n",
       "3  2015-09-02 17:00:22   16158    Alcoholic   Other/Unknown   \n",
       "4  2015-08-18 14:41:51   12322    Alcoholic  Ordinary Drink   \n",
       "\n",
       "  strCreativeCommonsConfirmed              strDrink strDrinkAlternate  \\\n",
       "0                         Yes             Margarita              None   \n",
       "1                         Yes        Blue Margarita              None   \n",
       "2                          No     Tommy's Margarita              None   \n",
       "3                          No    Whitecap Margarita              None   \n",
       "4                          No  Strawberry Margarita              None   \n",
       "\n",
       "  strDrinkDE strDrinkES strDrinkFR  ... strMeasure2 strMeasure3  \\\n",
       "0       None       None       None  ...     1/2 oz        1 oz    \n",
       "1       None       None       None  ...       1 oz        1 oz    \n",
       "2       None       None       None  ...      1.5 cl    2 spoons   \n",
       "3       None       None       None  ...       2 oz     1/4 cup    \n",
       "4       None       None       None  ...       1 oz      1/2 oz    \n",
       "\n",
       "      strMeasure4 strMeasure5 strMeasure6 strMeasure7 strMeasure8 strMeasure9  \\\n",
       "0            None        None        None        None        None        None   \n",
       "1         Coarse         None        None        None        None        None   \n",
       "2            None        None        None        None        None        None   \n",
       "3  3 tblsp fresh         None        None        None        None        None   \n",
       "4           1 oz        1 oz         None        None        None        None   \n",
       "\n",
       "                   strTags strVideo  \n",
       "0  IBA,ContemporaryClassic     None  \n",
       "1                     None     None  \n",
       "2               IBA,NewEra     None  \n",
       "3                     None     None  \n",
       "4                     None     None  \n",
       "\n",
       "[5 rows x 53 columns]"
      ]
     },
     "execution_count": 69,
     "metadata": {},
     "output_type": "execute_result"
    }
   ],
   "source": [
    "mydrinks = pd.DataFrame(rawdrinks['drinks'])\n",
    "mydrinks.head()"
   ]
  },
  {
   "cell_type": "code",
   "execution_count": 132,
   "metadata": {},
   "outputs": [
    {
     "data": {
      "text/html": [
       "<div>\n",
       "<style scoped>\n",
       "    .dataframe tbody tr th:only-of-type {\n",
       "        vertical-align: middle;\n",
       "    }\n",
       "\n",
       "    .dataframe tbody tr th {\n",
       "        vertical-align: top;\n",
       "    }\n",
       "\n",
       "    .dataframe thead th {\n",
       "        text-align: right;\n",
       "    }\n",
       "</style>\n",
       "<table border=\"1\" class=\"dataframe\">\n",
       "  <thead>\n",
       "    <tr style=\"text-align: right;\">\n",
       "      <th></th>\n",
       "      <th>0</th>\n",
       "      <th>1</th>\n",
       "      <th>2</th>\n",
       "      <th>3</th>\n",
       "      <th>4</th>\n",
       "    </tr>\n",
       "  </thead>\n",
       "  <tbody>\n",
       "    <tr>\n",
       "      <th>dateModified</th>\n",
       "      <td>2015-08-18 14:42:59</td>\n",
       "      <td>2015-08-18 14:51:53</td>\n",
       "      <td>2017-09-02 18:37:54</td>\n",
       "      <td>2015-09-02 17:00:22</td>\n",
       "      <td>2015-08-18 14:41:51</td>\n",
       "    </tr>\n",
       "    <tr>\n",
       "      <th>idDrink</th>\n",
       "      <td>11007</td>\n",
       "      <td>11118</td>\n",
       "      <td>17216</td>\n",
       "      <td>16158</td>\n",
       "      <td>12322</td>\n",
       "    </tr>\n",
       "    <tr>\n",
       "      <th>strAlcoholic</th>\n",
       "      <td>Alcoholic</td>\n",
       "      <td>Alcoholic</td>\n",
       "      <td>Alcoholic</td>\n",
       "      <td>Alcoholic</td>\n",
       "      <td>Alcoholic</td>\n",
       "    </tr>\n",
       "    <tr>\n",
       "      <th>strCategory</th>\n",
       "      <td>Ordinary Drink</td>\n",
       "      <td>Ordinary Drink</td>\n",
       "      <td>Ordinary Drink</td>\n",
       "      <td>Other/Unknown</td>\n",
       "      <td>Ordinary Drink</td>\n",
       "    </tr>\n",
       "    <tr>\n",
       "      <th>strCreativeCommonsConfirmed</th>\n",
       "      <td>No</td>\n",
       "      <td>No</td>\n",
       "      <td>No</td>\n",
       "      <td>No</td>\n",
       "      <td>No</td>\n",
       "    </tr>\n",
       "    <tr>\n",
       "      <th>strDrink</th>\n",
       "      <td>Margarita</td>\n",
       "      <td>Blue Margarita</td>\n",
       "      <td>Tommy's Margarita</td>\n",
       "      <td>Whitecap Margarita</td>\n",
       "      <td>Strawberry Margarita</td>\n",
       "    </tr>\n",
       "    <tr>\n",
       "      <th>strDrinkAlternate</th>\n",
       "      <td>None</td>\n",
       "      <td>None</td>\n",
       "      <td>None</td>\n",
       "      <td>None</td>\n",
       "      <td>None</td>\n",
       "    </tr>\n",
       "    <tr>\n",
       "      <th>strDrinkDE</th>\n",
       "      <td>None</td>\n",
       "      <td>None</td>\n",
       "      <td>None</td>\n",
       "      <td>None</td>\n",
       "      <td>None</td>\n",
       "    </tr>\n",
       "    <tr>\n",
       "      <th>strDrinkES</th>\n",
       "      <td>None</td>\n",
       "      <td>None</td>\n",
       "      <td>None</td>\n",
       "      <td>None</td>\n",
       "      <td>None</td>\n",
       "    </tr>\n",
       "    <tr>\n",
       "      <th>strDrinkFR</th>\n",
       "      <td>None</td>\n",
       "      <td>None</td>\n",
       "      <td>None</td>\n",
       "      <td>None</td>\n",
       "      <td>None</td>\n",
       "    </tr>\n",
       "    <tr>\n",
       "      <th>strDrinkThumb</th>\n",
       "      <td>https://www.thecocktaildb.com/images/media/dri...</td>\n",
       "      <td>https://www.thecocktaildb.com/images/media/dri...</td>\n",
       "      <td>https://www.thecocktaildb.com/images/media/dri...</td>\n",
       "      <td>https://www.thecocktaildb.com/images/media/dri...</td>\n",
       "      <td>https://www.thecocktaildb.com/images/media/dri...</td>\n",
       "    </tr>\n",
       "    <tr>\n",
       "      <th>strDrinkZH-HANS</th>\n",
       "      <td>None</td>\n",
       "      <td>None</td>\n",
       "      <td>None</td>\n",
       "      <td>None</td>\n",
       "      <td>None</td>\n",
       "    </tr>\n",
       "    <tr>\n",
       "      <th>strDrinkZH-HANT</th>\n",
       "      <td>None</td>\n",
       "      <td>None</td>\n",
       "      <td>None</td>\n",
       "      <td>None</td>\n",
       "      <td>None</td>\n",
       "    </tr>\n",
       "    <tr>\n",
       "      <th>strGlass</th>\n",
       "      <td>Cocktail glass</td>\n",
       "      <td>Cocktail glass</td>\n",
       "      <td>Old-Fashioned glass</td>\n",
       "      <td>Margarita/Coupette glass</td>\n",
       "      <td>Cocktail glass</td>\n",
       "    </tr>\n",
       "    <tr>\n",
       "      <th>strIBA</th>\n",
       "      <td>Contemporary Classics</td>\n",
       "      <td>None</td>\n",
       "      <td>New Era Drinks</td>\n",
       "      <td>None</td>\n",
       "      <td>None</td>\n",
       "    </tr>\n",
       "    <tr>\n",
       "      <th>strIngredient1</th>\n",
       "      <td>Tequila</td>\n",
       "      <td>Tequila</td>\n",
       "      <td>Tequila</td>\n",
       "      <td>Ice</td>\n",
       "      <td>Strawberry schnapps</td>\n",
       "    </tr>\n",
       "    <tr>\n",
       "      <th>strIngredient10</th>\n",
       "      <td>None</td>\n",
       "      <td>None</td>\n",
       "      <td>None</td>\n",
       "      <td>None</td>\n",
       "      <td>None</td>\n",
       "    </tr>\n",
       "    <tr>\n",
       "      <th>strIngredient11</th>\n",
       "      <td>None</td>\n",
       "      <td>None</td>\n",
       "      <td>None</td>\n",
       "      <td>None</td>\n",
       "      <td>None</td>\n",
       "    </tr>\n",
       "    <tr>\n",
       "      <th>strIngredient12</th>\n",
       "      <td>None</td>\n",
       "      <td>None</td>\n",
       "      <td>None</td>\n",
       "      <td>None</td>\n",
       "      <td>None</td>\n",
       "    </tr>\n",
       "    <tr>\n",
       "      <th>strIngredient13</th>\n",
       "      <td>None</td>\n",
       "      <td>None</td>\n",
       "      <td>None</td>\n",
       "      <td>None</td>\n",
       "      <td>None</td>\n",
       "    </tr>\n",
       "    <tr>\n",
       "      <th>strIngredient14</th>\n",
       "      <td>None</td>\n",
       "      <td>None</td>\n",
       "      <td>None</td>\n",
       "      <td>None</td>\n",
       "      <td>None</td>\n",
       "    </tr>\n",
       "    <tr>\n",
       "      <th>strIngredient15</th>\n",
       "      <td>None</td>\n",
       "      <td>None</td>\n",
       "      <td>None</td>\n",
       "      <td>None</td>\n",
       "      <td>None</td>\n",
       "    </tr>\n",
       "    <tr>\n",
       "      <th>strIngredient2</th>\n",
       "      <td>Triple sec</td>\n",
       "      <td>Blue Curacao</td>\n",
       "      <td>Lime Juice</td>\n",
       "      <td>Tequila</td>\n",
       "      <td>Tequila</td>\n",
       "    </tr>\n",
       "    <tr>\n",
       "      <th>strIngredient3</th>\n",
       "      <td>Lime juice</td>\n",
       "      <td>Lime juice</td>\n",
       "      <td>Agave syrup</td>\n",
       "      <td>Cream of coconut</td>\n",
       "      <td>Triple sec</td>\n",
       "    </tr>\n",
       "    <tr>\n",
       "      <th>strIngredient4</th>\n",
       "      <td>Salt</td>\n",
       "      <td>Salt</td>\n",
       "      <td>None</td>\n",
       "      <td>Lime juice</td>\n",
       "      <td>Lemon juice</td>\n",
       "    </tr>\n",
       "    <tr>\n",
       "      <th>strIngredient5</th>\n",
       "      <td>None</td>\n",
       "      <td>None</td>\n",
       "      <td>None</td>\n",
       "      <td>None</td>\n",
       "      <td>Strawberries</td>\n",
       "    </tr>\n",
       "    <tr>\n",
       "      <th>strIngredient6</th>\n",
       "      <td>None</td>\n",
       "      <td>None</td>\n",
       "      <td>None</td>\n",
       "      <td>None</td>\n",
       "      <td>Salt</td>\n",
       "    </tr>\n",
       "    <tr>\n",
       "      <th>strIngredient7</th>\n",
       "      <td>None</td>\n",
       "      <td>None</td>\n",
       "      <td>None</td>\n",
       "      <td>None</td>\n",
       "      <td>None</td>\n",
       "    </tr>\n",
       "    <tr>\n",
       "      <th>strIngredient8</th>\n",
       "      <td>None</td>\n",
       "      <td>None</td>\n",
       "      <td>None</td>\n",
       "      <td>None</td>\n",
       "      <td>None</td>\n",
       "    </tr>\n",
       "    <tr>\n",
       "      <th>strIngredient9</th>\n",
       "      <td>None</td>\n",
       "      <td>None</td>\n",
       "      <td>None</td>\n",
       "      <td>None</td>\n",
       "      <td>None</td>\n",
       "    </tr>\n",
       "    <tr>\n",
       "      <th>strInstructions</th>\n",
       "      <td>Rub the rim of the glass with the lime slice t...</td>\n",
       "      <td>Rub rim of cocktail glass with lime juice. Dip...</td>\n",
       "      <td>Shake and strain into a chilled cocktail glass.</td>\n",
       "      <td>Place all ingredients in a blender and blend u...</td>\n",
       "      <td>Rub rim of cocktail glass with lemon juice and...</td>\n",
       "    </tr>\n",
       "    <tr>\n",
       "      <th>strInstructionsDE</th>\n",
       "      <td>Reiben Sie den Rand des Glases mit der Limette...</td>\n",
       "      <td>Den Rand des Cocktailglases mit Limettensaft e...</td>\n",
       "      <td>Schütteln und in ein gekühltes Cocktailglas ab...</td>\n",
       "      <td>Alle Zutaten in einen Mixer geben und mischen.</td>\n",
       "      <td>Cocktailglasrand mit Zitronensaft und Tauchran...</td>\n",
       "    </tr>\n",
       "    <tr>\n",
       "      <th>strInstructionsES</th>\n",
       "      <td>None</td>\n",
       "      <td>None</td>\n",
       "      <td>None</td>\n",
       "      <td>None</td>\n",
       "      <td>None</td>\n",
       "    </tr>\n",
       "    <tr>\n",
       "      <th>strInstructionsFR</th>\n",
       "      <td>None</td>\n",
       "      <td>None</td>\n",
       "      <td>None</td>\n",
       "      <td>None</td>\n",
       "      <td>None</td>\n",
       "    </tr>\n",
       "    <tr>\n",
       "      <th>strInstructionsZH-HANS</th>\n",
       "      <td>None</td>\n",
       "      <td>None</td>\n",
       "      <td>None</td>\n",
       "      <td>None</td>\n",
       "      <td>None</td>\n",
       "    </tr>\n",
       "    <tr>\n",
       "      <th>strInstructionsZH-HANT</th>\n",
       "      <td>None</td>\n",
       "      <td>None</td>\n",
       "      <td>None</td>\n",
       "      <td>None</td>\n",
       "      <td>None</td>\n",
       "    </tr>\n",
       "    <tr>\n",
       "      <th>strMeasure1</th>\n",
       "      <td>1 1/2 oz</td>\n",
       "      <td>1 1/2 oz</td>\n",
       "      <td>4.5 cl</td>\n",
       "      <td>1 cup</td>\n",
       "      <td>1/2 oz</td>\n",
       "    </tr>\n",
       "    <tr>\n",
       "      <th>strMeasure10</th>\n",
       "      <td>None</td>\n",
       "      <td>None</td>\n",
       "      <td>None</td>\n",
       "      <td>None</td>\n",
       "      <td>None</td>\n",
       "    </tr>\n",
       "    <tr>\n",
       "      <th>strMeasure11</th>\n",
       "      <td>None</td>\n",
       "      <td>None</td>\n",
       "      <td>None</td>\n",
       "      <td>None</td>\n",
       "      <td>None</td>\n",
       "    </tr>\n",
       "    <tr>\n",
       "      <th>strMeasure12</th>\n",
       "      <td>None</td>\n",
       "      <td>None</td>\n",
       "      <td>None</td>\n",
       "      <td>None</td>\n",
       "      <td>None</td>\n",
       "    </tr>\n",
       "    <tr>\n",
       "      <th>strMeasure13</th>\n",
       "      <td>None</td>\n",
       "      <td>None</td>\n",
       "      <td>None</td>\n",
       "      <td>None</td>\n",
       "      <td>None</td>\n",
       "    </tr>\n",
       "    <tr>\n",
       "      <th>strMeasure14</th>\n",
       "      <td>None</td>\n",
       "      <td>None</td>\n",
       "      <td>None</td>\n",
       "      <td>None</td>\n",
       "      <td>None</td>\n",
       "    </tr>\n",
       "    <tr>\n",
       "      <th>strMeasure15</th>\n",
       "      <td>None</td>\n",
       "      <td>None</td>\n",
       "      <td>None</td>\n",
       "      <td>None</td>\n",
       "      <td>None</td>\n",
       "    </tr>\n",
       "    <tr>\n",
       "      <th>strMeasure2</th>\n",
       "      <td>1/2 oz</td>\n",
       "      <td>1 oz</td>\n",
       "      <td>1.5 cl</td>\n",
       "      <td>2 oz</td>\n",
       "      <td>1 oz</td>\n",
       "    </tr>\n",
       "    <tr>\n",
       "      <th>strMeasure3</th>\n",
       "      <td>1 oz</td>\n",
       "      <td>1 oz</td>\n",
       "      <td>2 spoons</td>\n",
       "      <td>1/4 cup</td>\n",
       "      <td>1/2 oz</td>\n",
       "    </tr>\n",
       "    <tr>\n",
       "      <th>strMeasure4</th>\n",
       "      <td>None</td>\n",
       "      <td>Coarse</td>\n",
       "      <td>None</td>\n",
       "      <td>3 tblsp fresh</td>\n",
       "      <td>1 oz</td>\n",
       "    </tr>\n",
       "    <tr>\n",
       "      <th>strMeasure5</th>\n",
       "      <td>None</td>\n",
       "      <td>None</td>\n",
       "      <td>None</td>\n",
       "      <td>None</td>\n",
       "      <td>1 oz</td>\n",
       "    </tr>\n",
       "    <tr>\n",
       "      <th>strMeasure6</th>\n",
       "      <td>None</td>\n",
       "      <td>None</td>\n",
       "      <td>None</td>\n",
       "      <td>None</td>\n",
       "      <td>None</td>\n",
       "    </tr>\n",
       "    <tr>\n",
       "      <th>strMeasure7</th>\n",
       "      <td>None</td>\n",
       "      <td>None</td>\n",
       "      <td>None</td>\n",
       "      <td>None</td>\n",
       "      <td>None</td>\n",
       "    </tr>\n",
       "    <tr>\n",
       "      <th>strMeasure8</th>\n",
       "      <td>None</td>\n",
       "      <td>None</td>\n",
       "      <td>None</td>\n",
       "      <td>None</td>\n",
       "      <td>None</td>\n",
       "    </tr>\n",
       "    <tr>\n",
       "      <th>strMeasure9</th>\n",
       "      <td>None</td>\n",
       "      <td>None</td>\n",
       "      <td>None</td>\n",
       "      <td>None</td>\n",
       "      <td>None</td>\n",
       "    </tr>\n",
       "    <tr>\n",
       "      <th>strTags</th>\n",
       "      <td>IBA,ContemporaryClassic</td>\n",
       "      <td>None</td>\n",
       "      <td>IBA,NewEra</td>\n",
       "      <td>None</td>\n",
       "      <td>None</td>\n",
       "    </tr>\n",
       "    <tr>\n",
       "      <th>strVideo</th>\n",
       "      <td>None</td>\n",
       "      <td>None</td>\n",
       "      <td>None</td>\n",
       "      <td>None</td>\n",
       "      <td>None</td>\n",
       "    </tr>\n",
       "  </tbody>\n",
       "</table>\n",
       "</div>"
      ],
      "text/plain": [
       "                                                                             0  \\\n",
       "dateModified                                               2015-08-18 14:42:59   \n",
       "idDrink                                                                  11007   \n",
       "strAlcoholic                                                         Alcoholic   \n",
       "strCategory                                                     Ordinary Drink   \n",
       "strCreativeCommonsConfirmed                                                 No   \n",
       "strDrink                                                             Margarita   \n",
       "strDrinkAlternate                                                         None   \n",
       "strDrinkDE                                                                None   \n",
       "strDrinkES                                                                None   \n",
       "strDrinkFR                                                                None   \n",
       "strDrinkThumb                https://www.thecocktaildb.com/images/media/dri...   \n",
       "strDrinkZH-HANS                                                           None   \n",
       "strDrinkZH-HANT                                                           None   \n",
       "strGlass                                                        Cocktail glass   \n",
       "strIBA                                                   Contemporary Classics   \n",
       "strIngredient1                                                         Tequila   \n",
       "strIngredient10                                                           None   \n",
       "strIngredient11                                                           None   \n",
       "strIngredient12                                                           None   \n",
       "strIngredient13                                                           None   \n",
       "strIngredient14                                                           None   \n",
       "strIngredient15                                                           None   \n",
       "strIngredient2                                                      Triple sec   \n",
       "strIngredient3                                                      Lime juice   \n",
       "strIngredient4                                                            Salt   \n",
       "strIngredient5                                                            None   \n",
       "strIngredient6                                                            None   \n",
       "strIngredient7                                                            None   \n",
       "strIngredient8                                                            None   \n",
       "strIngredient9                                                            None   \n",
       "strInstructions              Rub the rim of the glass with the lime slice t...   \n",
       "strInstructionsDE            Reiben Sie den Rand des Glases mit der Limette...   \n",
       "strInstructionsES                                                         None   \n",
       "strInstructionsFR                                                         None   \n",
       "strInstructionsZH-HANS                                                    None   \n",
       "strInstructionsZH-HANT                                                    None   \n",
       "strMeasure1                                                          1 1/2 oz    \n",
       "strMeasure10                                                              None   \n",
       "strMeasure11                                                              None   \n",
       "strMeasure12                                                              None   \n",
       "strMeasure13                                                              None   \n",
       "strMeasure14                                                              None   \n",
       "strMeasure15                                                              None   \n",
       "strMeasure2                                                            1/2 oz    \n",
       "strMeasure3                                                              1 oz    \n",
       "strMeasure4                                                               None   \n",
       "strMeasure5                                                               None   \n",
       "strMeasure6                                                               None   \n",
       "strMeasure7                                                               None   \n",
       "strMeasure8                                                               None   \n",
       "strMeasure9                                                               None   \n",
       "strTags                                                IBA,ContemporaryClassic   \n",
       "strVideo                                                                  None   \n",
       "\n",
       "                                                                             1  \\\n",
       "dateModified                                               2015-08-18 14:51:53   \n",
       "idDrink                                                                  11118   \n",
       "strAlcoholic                                                         Alcoholic   \n",
       "strCategory                                                     Ordinary Drink   \n",
       "strCreativeCommonsConfirmed                                                 No   \n",
       "strDrink                                                        Blue Margarita   \n",
       "strDrinkAlternate                                                         None   \n",
       "strDrinkDE                                                                None   \n",
       "strDrinkES                                                                None   \n",
       "strDrinkFR                                                                None   \n",
       "strDrinkThumb                https://www.thecocktaildb.com/images/media/dri...   \n",
       "strDrinkZH-HANS                                                           None   \n",
       "strDrinkZH-HANT                                                           None   \n",
       "strGlass                                                        Cocktail glass   \n",
       "strIBA                                                                    None   \n",
       "strIngredient1                                                         Tequila   \n",
       "strIngredient10                                                           None   \n",
       "strIngredient11                                                           None   \n",
       "strIngredient12                                                           None   \n",
       "strIngredient13                                                           None   \n",
       "strIngredient14                                                           None   \n",
       "strIngredient15                                                           None   \n",
       "strIngredient2                                                    Blue Curacao   \n",
       "strIngredient3                                                      Lime juice   \n",
       "strIngredient4                                                            Salt   \n",
       "strIngredient5                                                            None   \n",
       "strIngredient6                                                            None   \n",
       "strIngredient7                                                            None   \n",
       "strIngredient8                                                            None   \n",
       "strIngredient9                                                            None   \n",
       "strInstructions              Rub rim of cocktail glass with lime juice. Dip...   \n",
       "strInstructionsDE            Den Rand des Cocktailglases mit Limettensaft e...   \n",
       "strInstructionsES                                                         None   \n",
       "strInstructionsFR                                                         None   \n",
       "strInstructionsZH-HANS                                                    None   \n",
       "strInstructionsZH-HANT                                                    None   \n",
       "strMeasure1                                                          1 1/2 oz    \n",
       "strMeasure10                                                              None   \n",
       "strMeasure11                                                              None   \n",
       "strMeasure12                                                              None   \n",
       "strMeasure13                                                              None   \n",
       "strMeasure14                                                              None   \n",
       "strMeasure15                                                              None   \n",
       "strMeasure2                                                              1 oz    \n",
       "strMeasure3                                                              1 oz    \n",
       "strMeasure4                                                            Coarse    \n",
       "strMeasure5                                                               None   \n",
       "strMeasure6                                                               None   \n",
       "strMeasure7                                                               None   \n",
       "strMeasure8                                                               None   \n",
       "strMeasure9                                                               None   \n",
       "strTags                                                                   None   \n",
       "strVideo                                                                  None   \n",
       "\n",
       "                                                                             2  \\\n",
       "dateModified                                               2017-09-02 18:37:54   \n",
       "idDrink                                                                  17216   \n",
       "strAlcoholic                                                         Alcoholic   \n",
       "strCategory                                                     Ordinary Drink   \n",
       "strCreativeCommonsConfirmed                                                 No   \n",
       "strDrink                                                     Tommy's Margarita   \n",
       "strDrinkAlternate                                                         None   \n",
       "strDrinkDE                                                                None   \n",
       "strDrinkES                                                                None   \n",
       "strDrinkFR                                                                None   \n",
       "strDrinkThumb                https://www.thecocktaildb.com/images/media/dri...   \n",
       "strDrinkZH-HANS                                                           None   \n",
       "strDrinkZH-HANT                                                           None   \n",
       "strGlass                                                   Old-Fashioned glass   \n",
       "strIBA                                                          New Era Drinks   \n",
       "strIngredient1                                                         Tequila   \n",
       "strIngredient10                                                           None   \n",
       "strIngredient11                                                           None   \n",
       "strIngredient12                                                           None   \n",
       "strIngredient13                                                           None   \n",
       "strIngredient14                                                           None   \n",
       "strIngredient15                                                           None   \n",
       "strIngredient2                                                      Lime Juice   \n",
       "strIngredient3                                                     Agave syrup   \n",
       "strIngredient4                                                            None   \n",
       "strIngredient5                                                            None   \n",
       "strIngredient6                                                            None   \n",
       "strIngredient7                                                            None   \n",
       "strIngredient8                                                            None   \n",
       "strIngredient9                                                            None   \n",
       "strInstructions                Shake and strain into a chilled cocktail glass.   \n",
       "strInstructionsDE            Schütteln und in ein gekühltes Cocktailglas ab...   \n",
       "strInstructionsES                                                         None   \n",
       "strInstructionsFR                                                         None   \n",
       "strInstructionsZH-HANS                                                    None   \n",
       "strInstructionsZH-HANT                                                    None   \n",
       "strMeasure1                                                             4.5 cl   \n",
       "strMeasure10                                                              None   \n",
       "strMeasure11                                                              None   \n",
       "strMeasure12                                                              None   \n",
       "strMeasure13                                                              None   \n",
       "strMeasure14                                                              None   \n",
       "strMeasure15                                                              None   \n",
       "strMeasure2                                                             1.5 cl   \n",
       "strMeasure3                                                           2 spoons   \n",
       "strMeasure4                                                               None   \n",
       "strMeasure5                                                               None   \n",
       "strMeasure6                                                               None   \n",
       "strMeasure7                                                               None   \n",
       "strMeasure8                                                               None   \n",
       "strMeasure9                                                               None   \n",
       "strTags                                                             IBA,NewEra   \n",
       "strVideo                                                                  None   \n",
       "\n",
       "                                                                             3  \\\n",
       "dateModified                                               2015-09-02 17:00:22   \n",
       "idDrink                                                                  16158   \n",
       "strAlcoholic                                                         Alcoholic   \n",
       "strCategory                                                      Other/Unknown   \n",
       "strCreativeCommonsConfirmed                                                 No   \n",
       "strDrink                                                    Whitecap Margarita   \n",
       "strDrinkAlternate                                                         None   \n",
       "strDrinkDE                                                                None   \n",
       "strDrinkES                                                                None   \n",
       "strDrinkFR                                                                None   \n",
       "strDrinkThumb                https://www.thecocktaildb.com/images/media/dri...   \n",
       "strDrinkZH-HANS                                                           None   \n",
       "strDrinkZH-HANT                                                           None   \n",
       "strGlass                                              Margarita/Coupette glass   \n",
       "strIBA                                                                    None   \n",
       "strIngredient1                                                             Ice   \n",
       "strIngredient10                                                           None   \n",
       "strIngredient11                                                           None   \n",
       "strIngredient12                                                           None   \n",
       "strIngredient13                                                           None   \n",
       "strIngredient14                                                           None   \n",
       "strIngredient15                                                           None   \n",
       "strIngredient2                                                         Tequila   \n",
       "strIngredient3                                                Cream of coconut   \n",
       "strIngredient4                                                      Lime juice   \n",
       "strIngredient5                                                            None   \n",
       "strIngredient6                                                            None   \n",
       "strIngredient7                                                            None   \n",
       "strIngredient8                                                            None   \n",
       "strIngredient9                                                            None   \n",
       "strInstructions              Place all ingredients in a blender and blend u...   \n",
       "strInstructionsDE               Alle Zutaten in einen Mixer geben und mischen.   \n",
       "strInstructionsES                                                         None   \n",
       "strInstructionsFR                                                         None   \n",
       "strInstructionsZH-HANS                                                    None   \n",
       "strInstructionsZH-HANT                                                    None   \n",
       "strMeasure1                                                             1 cup    \n",
       "strMeasure10                                                              None   \n",
       "strMeasure11                                                              None   \n",
       "strMeasure12                                                              None   \n",
       "strMeasure13                                                              None   \n",
       "strMeasure14                                                              None   \n",
       "strMeasure15                                                              None   \n",
       "strMeasure2                                                              2 oz    \n",
       "strMeasure3                                                           1/4 cup    \n",
       "strMeasure4                                                     3 tblsp fresh    \n",
       "strMeasure5                                                               None   \n",
       "strMeasure6                                                               None   \n",
       "strMeasure7                                                               None   \n",
       "strMeasure8                                                               None   \n",
       "strMeasure9                                                               None   \n",
       "strTags                                                                   None   \n",
       "strVideo                                                                  None   \n",
       "\n",
       "                                                                             4  \n",
       "dateModified                                               2015-08-18 14:41:51  \n",
       "idDrink                                                                  12322  \n",
       "strAlcoholic                                                         Alcoholic  \n",
       "strCategory                                                     Ordinary Drink  \n",
       "strCreativeCommonsConfirmed                                                 No  \n",
       "strDrink                                                  Strawberry Margarita  \n",
       "strDrinkAlternate                                                         None  \n",
       "strDrinkDE                                                                None  \n",
       "strDrinkES                                                                None  \n",
       "strDrinkFR                                                                None  \n",
       "strDrinkThumb                https://www.thecocktaildb.com/images/media/dri...  \n",
       "strDrinkZH-HANS                                                           None  \n",
       "strDrinkZH-HANT                                                           None  \n",
       "strGlass                                                        Cocktail glass  \n",
       "strIBA                                                                    None  \n",
       "strIngredient1                                             Strawberry schnapps  \n",
       "strIngredient10                                                           None  \n",
       "strIngredient11                                                           None  \n",
       "strIngredient12                                                           None  \n",
       "strIngredient13                                                           None  \n",
       "strIngredient14                                                           None  \n",
       "strIngredient15                                                           None  \n",
       "strIngredient2                                                         Tequila  \n",
       "strIngredient3                                                      Triple sec  \n",
       "strIngredient4                                                     Lemon juice  \n",
       "strIngredient5                                                    Strawberries  \n",
       "strIngredient6                                                            Salt  \n",
       "strIngredient7                                                            None  \n",
       "strIngredient8                                                            None  \n",
       "strIngredient9                                                            None  \n",
       "strInstructions              Rub rim of cocktail glass with lemon juice and...  \n",
       "strInstructionsDE            Cocktailglasrand mit Zitronensaft und Tauchran...  \n",
       "strInstructionsES                                                         None  \n",
       "strInstructionsFR                                                         None  \n",
       "strInstructionsZH-HANS                                                    None  \n",
       "strInstructionsZH-HANT                                                    None  \n",
       "strMeasure1                                                            1/2 oz   \n",
       "strMeasure10                                                              None  \n",
       "strMeasure11                                                              None  \n",
       "strMeasure12                                                              None  \n",
       "strMeasure13                                                              None  \n",
       "strMeasure14                                                              None  \n",
       "strMeasure15                                                              None  \n",
       "strMeasure2                                                              1 oz   \n",
       "strMeasure3                                                            1/2 oz   \n",
       "strMeasure4                                                              1 oz   \n",
       "strMeasure5                                                              1 oz   \n",
       "strMeasure6                                                               None  \n",
       "strMeasure7                                                               None  \n",
       "strMeasure8                                                               None  \n",
       "strMeasure9                                                               None  \n",
       "strTags                                                                   None  \n",
       "strVideo                                                                  None  "
      ]
     },
     "execution_count": 132,
     "metadata": {},
     "output_type": "execute_result"
    }
   ],
   "source": [
    "# we can Transpose to get a sense of all columns\n",
    "mydrinks.head().T"
   ]
  },
  {
   "cell_type": "code",
   "execution_count": 124,
   "metadata": {},
   "outputs": [
    {
     "data": {
      "text/html": [
       "<div>\n",
       "<style scoped>\n",
       "    .dataframe tbody tr th:only-of-type {\n",
       "        vertical-align: middle;\n",
       "    }\n",
       "\n",
       "    .dataframe tbody tr th {\n",
       "        vertical-align: top;\n",
       "    }\n",
       "\n",
       "    .dataframe thead th {\n",
       "        text-align: right;\n",
       "    }\n",
       "</style>\n",
       "<table border=\"1\" class=\"dataframe\">\n",
       "  <thead>\n",
       "    <tr style=\"text-align: right;\">\n",
       "      <th></th>\n",
       "      <th>drinks</th>\n",
       "    </tr>\n",
       "  </thead>\n",
       "  <tbody>\n",
       "    <tr>\n",
       "      <th>0</th>\n",
       "      <td>{'idDrink': '11007', 'strDrink': 'Margarita', ...</td>\n",
       "    </tr>\n",
       "    <tr>\n",
       "      <th>1</th>\n",
       "      <td>{'idDrink': '11118', 'strDrink': 'Blue Margari...</td>\n",
       "    </tr>\n",
       "    <tr>\n",
       "      <th>2</th>\n",
       "      <td>{'idDrink': '17216', 'strDrink': 'Tommy's Marg...</td>\n",
       "    </tr>\n",
       "    <tr>\n",
       "      <th>3</th>\n",
       "      <td>{'idDrink': '16158', 'strDrink': 'Whitecap Mar...</td>\n",
       "    </tr>\n",
       "    <tr>\n",
       "      <th>4</th>\n",
       "      <td>{'idDrink': '12322', 'strDrink': 'Strawberry M...</td>\n",
       "    </tr>\n",
       "  </tbody>\n",
       "</table>\n",
       "</div>"
      ],
      "text/plain": [
       "                                              drinks\n",
       "0  {'idDrink': '11007', 'strDrink': 'Margarita', ...\n",
       "1  {'idDrink': '11118', 'strDrink': 'Blue Margari...\n",
       "2  {'idDrink': '17216', 'strDrink': 'Tommy's Marg...\n",
       "3  {'idDrink': '16158', 'strDrink': 'Whitecap Mar...\n",
       "4  {'idDrink': '12322', 'strDrink': 'Strawberry M..."
      ]
     },
     "execution_count": 124,
     "metadata": {},
     "output_type": "execute_result"
    }
   ],
   "source": [
    "drinks = pd.read_json(\"https://www.thecocktaildb.com/api/json/v1/1/search.php?s=margarita\")\n",
    "drinks.head()"
   ]
  },
  {
   "cell_type": "code",
   "execution_count": null,
   "metadata": {},
   "outputs": [],
   "source": [
    "# requests also works with post type of requests"
   ]
  },
  {
   "cell_type": "code",
   "execution_count": 43,
   "metadata": {},
   "outputs": [],
   "source": [
    "url = \"http://www.recipepuppy.com/api/?i=onions,garlic&q=omelet&p=3\""
   ]
  },
  {
   "cell_type": "code",
   "execution_count": 44,
   "metadata": {},
   "outputs": [
    {
     "data": {
      "text/plain": [
       "200"
      ]
     },
     "execution_count": 44,
     "metadata": {},
     "output_type": "execute_result"
    }
   ],
   "source": [
    "response = requests.get(url)\n",
    "response.status_code"
   ]
  },
  {
   "cell_type": "code",
   "execution_count": 45,
   "metadata": {},
   "outputs": [
    {
     "data": {
      "text/plain": [
       "dict"
      ]
     },
     "execution_count": 45,
     "metadata": {},
     "output_type": "execute_result"
    }
   ],
   "source": [
    "o_data = response.json()\n",
    "type(o_data)"
   ]
  },
  {
   "cell_type": "code",
   "execution_count": 46,
   "metadata": {},
   "outputs": [
    {
     "data": {
      "text/plain": [
       "list"
      ]
     },
     "execution_count": 46,
     "metadata": {},
     "output_type": "execute_result"
    }
   ],
   "source": [
    "o_recipes = o_data.get('results')\n",
    "type(o_recipes)"
   ]
  },
  {
   "cell_type": "code",
   "execution_count": 47,
   "metadata": {},
   "outputs": [
    {
     "data": {
      "text/plain": [
       "[{'title': 'Vegetable-Pasta Oven Omelet',\n",
       "  'href': 'http://find.myrecipes.com/recipes/recipefinder.dyn?action=displayRecipe&recipe_id=520763',\n",
       "  'ingredients': 'tomato, onions, red pepper, garlic, olive oil, zucchini, cream cheese, vermicelli, eggs, parmesan cheese, milk, italian seasoning, salt, black pepper',\n",
       "  'thumbnail': 'http://img.recipepuppy.com/560556.jpg'},\n",
       " {'title': 'Roasted Pepper and Bacon Omelet',\n",
       "  'href': 'http://www.bigoven.com/43919-Roasted-Pepper-and-Bacon-Omelet-recipe.html',\n",
       "  'ingredients': 'eggs, salt, black pepper, butter, black pepper, bacon, onions, garlic, roasted red peppers, oregano, black pepper',\n",
       "  'thumbnail': ''},\n",
       " {'title': '\\nBroccoli Oven Omelet Recipe\\n\\n',\n",
       "  'href': 'http://cookeatshare.com/recipes/broccoli-oven-omelet-92851',\n",
       "  'ingredients': 'eggs, broccoli, onions, parmesan cheese, lowfat milk, salt, basil, garlic, tomato, parmesan cheese',\n",
       "  'thumbnail': ''}]"
      ]
     },
     "execution_count": 47,
     "metadata": {},
     "output_type": "execute_result"
    }
   ],
   "source": [
    "o_recipes[:3]"
   ]
  },
  {
   "cell_type": "code",
   "execution_count": 48,
   "metadata": {},
   "outputs": [],
   "source": [
    "# for 100 suggestion is to use time.sleep(0.2)\n",
    "# it is good manners to sleep a little to avoid DDOS attack on API server\n",
    "import time\n",
    "time.sleep(0.5) # half a second delay"
   ]
  }
 ],
 "metadata": {
  "kernelspec": {
   "display_name": "Python 3",
   "language": "python",
   "name": "python3"
  },
  "language_info": {
   "codemirror_mode": {
    "name": "ipython",
    "version": 3
   },
   "file_extension": ".py",
   "mimetype": "text/x-python",
   "name": "python",
   "nbconvert_exporter": "python",
   "pygments_lexer": "ipython3",
   "version": "3.8.3"
  }
 },
 "nbformat": 4,
 "nbformat_minor": 2
}
